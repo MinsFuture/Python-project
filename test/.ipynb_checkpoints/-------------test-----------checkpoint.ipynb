{
 "cells": [
  {
   "cell_type": "markdown",
   "id": "db9abdb1-9bd1-4306-a5bc-ad482d33838b",
   "metadata": {},
   "source": [
    "13. f-string에서 수식을 직접 넣을 수 있다는 점을 활용해, 두 숫자와 연산자를 입력받아 연산 결과를 한 줄로 출력하는 코드를 작성해보세요.  \n",
    "예) num1=3, op=\"+\", num2=5 → \"3 + 5 = 8\""
   ]
  },
  {
   "cell_type": "code",
   "execution_count": null,
   "id": "bd9961a1-3291-44d3-9843-d2f900816dc9",
   "metadata": {},
   "outputs": [],
   "source": []
  },
  {
   "cell_type": "markdown",
   "id": "bd10c36e-09e1-45ea-8487-825f4cb504fa",
   "metadata": {},
   "source": [
    "13. 튜플 (1,2,3)을 튜플 (4,3,2,1)로 만들어보세요."
   ]
  },
  {
   "cell_type": "code",
   "execution_count": null,
   "id": "555bb575-786c-4bfa-9139-be3e578da234",
   "metadata": {},
   "outputs": [],
   "source": []
  },
  {
   "cell_type": "markdown",
   "id": "2146696b-8a81-441c-8842-d82b600c7eb7",
   "metadata": {},
   "source": [
    "6. 사용자로부터 키를 입력받아, 그 키가 person 딕셔너리에 존재하는지 확인하는 코드를 작성하세요.\n",
    "* 만약 해당 키가 존재하면 \"존재합니다\"를,\n",
    "* 존재하지 않으면 \"존재하지 않습니다\"를 출력하도록 하세요."
   ]
  },
  {
   "cell_type": "code",
   "execution_count": null,
   "id": "4568f970-4fea-4c4b-9b2d-3513e1d4b4bc",
   "metadata": {},
   "outputs": [],
   "source": []
  },
  {
   "cell_type": "markdown",
   "id": "d0469d10-2d83-4c1e-9b87-9a66b6264364",
   "metadata": {},
   "source": [
    "1. Car 클래스를 만들고, __init__에서 brand, model, year를 받아서 인스턴스 변수를 저장하게 해보세요.  \n",
    "describe() 메서드를 만들어, \"브랜드: ..., 모델: ..., 연식: ...\" 형태로 출력하게 해보세요."
   ]
  },
  {
   "cell_type": "code",
   "execution_count": null,
   "id": "33b83f90-298d-4697-b278-b6627ed4b6d4",
   "metadata": {},
   "outputs": [],
   "source": []
  }
 ],
 "metadata": {
  "kernelspec": {
   "display_name": "Python [conda env:base] *",
   "language": "python",
   "name": "conda-base-py"
  },
  "language_info": {
   "codemirror_mode": {
    "name": "ipython",
    "version": 3
   },
   "file_extension": ".py",
   "mimetype": "text/x-python",
   "name": "python",
   "nbconvert_exporter": "python",
   "pygments_lexer": "ipython3",
   "version": "3.12.7"
  }
 },
 "nbformat": 4,
 "nbformat_minor": 5
}
