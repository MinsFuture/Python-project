{
 "cells": [
  {
   "cell_type": "markdown",
   "id": "db9abdb1-9bd1-4306-a5bc-ad482d33838b",
   "metadata": {},
   "source": [
    "13. f-string에서 수식을 직접 넣을 수 있다는 점을 활용해, 두 숫자와 연산자를 입력받아 연산 결과를 한 줄로 출력하는 코드를 작성해보세요.  \n",
    "예) num1=3, op=\"+\", num2=5 → \"3 + 5 = 8\""
   ]
  },
  {
   "cell_type": "code",
   "execution_count": 14,
   "id": "bd9961a1-3291-44d3-9843-d2f900816dc9",
   "metadata": {},
   "outputs": [
    {
     "name": "stdin",
     "output_type": "stream",
     "text": [
      "num1 : 을 입력하세요 3\n",
      "연산자를 입력하세요 :  +\n",
      "num2 : 을 입력하세요 5\n"
     ]
    },
    {
     "name": "stdout",
     "output_type": "stream",
     "text": [
      "3 + 5 =  8\n"
     ]
    }
   ],
   "source": [
    "num1= int(input('num1 : 을 입력하세요'))\n",
    "op =  input('연산자를 입력하세요 : ')\n",
    "num2 = int(input('num2 : 을 입력하세요'))\n",
    "\n",
    "print(f'{num1} {op} {num2} = ', eval(f'{num1}{op}{num2}'))"
   ]
  },
  {
   "cell_type": "markdown",
   "id": "bd10c36e-09e1-45ea-8487-825f4cb504fa",
   "metadata": {},
   "source": [
    "13. 튜플 (1,2,3)을 튜플 (4,3,2,1)로 만들어보세요."
   ]
  },
  {
   "cell_type": "code",
   "execution_count": 3,
   "id": "555bb575-786c-4bfa-9139-be3e578da234",
   "metadata": {},
   "outputs": [
    {
     "data": {
      "text/plain": [
       "(4, 3, 2, 1)"
      ]
     },
     "execution_count": 3,
     "metadata": {},
     "output_type": "execute_result"
    }
   ],
   "source": [
    "tuple_a = (1, 2, 3)\n",
    "a = list(tuple_a)\n",
    "a.append(4)\n",
    "a = a[::-1]\n",
    "tuple(a)"
   ]
  },
  {
   "cell_type": "markdown",
   "id": "2146696b-8a81-441c-8842-d82b600c7eb7",
   "metadata": {},
   "source": [
    "6. 사용자로부터 키를 입력받아, 그 키가 person 딕셔너리에 존재하는지 확인하는 코드를 작성하세요.\n",
    "* 만약 해당 키가 존재하면 \"존재합니다\"를,\n",
    "* 존재하지 않으면 \"존재하지 않습니다\"를 출력하도록 하세요."
   ]
  },
  {
   "cell_type": "code",
   "execution_count": 17,
   "id": "4568f970-4fea-4c4b-9b2d-3513e1d4b4bc",
   "metadata": {},
   "outputs": [
    {
     "name": "stdin",
     "output_type": "stream",
     "text": [
      "키:  key2\n"
     ]
    },
    {
     "name": "stdout",
     "output_type": "stream",
     "text": [
      "key2\n",
      "존재합니다\n"
     ]
    }
   ],
   "source": [
    "key = input('키: ')  # 사용자 입력 받기\n",
    "\n",
    "person = {'key2': key}  # 딕셔너리 생성\n",
    "\n",
    "if key in person:\n",
    "    print(key)\n",
    "    print(\"존재합니다\")\n",
    "else:\n",
    "    print(\"존재하지 않습니다\")\n"
   ]
  },
  {
   "cell_type": "markdown",
   "id": "d0469d10-2d83-4c1e-9b87-9a66b6264364",
   "metadata": {},
   "source": [
    "1. Car 클래스를 만들고, __init__에서 brand, model, year를 받아서 인스턴스 변수를 저장하게 해보세요.  \n",
    "describe() 메서드를 만들어, \"브랜드: ..., 모델: ..., 연식: ...\" 형태로 출력하게 해보세요."
   ]
  },
  {
   "cell_type": "code",
   "execution_count": null,
   "id": "33b83f90-298d-4697-b278-b6627ed4b6d4",
   "metadata": {},
   "outputs": [],
   "source": []
  },
  {
   "cell_type": "markdown",
   "id": "27c460f7-1b19-41e3-81cb-4550033c48b7",
   "metadata": {},
   "source": [
    "7. 리스트 names = [\"Alice\", \"Bob\", \"Charlie\"]를 enumerate로 순회하며, \"0번째 이름은 Alice\" 이런 식으로 인덱스와 함께 출력하세요."
   ]
  },
  {
   "cell_type": "code",
   "execution_count": 21,
   "id": "00e35b2b-585b-4ce2-bf1b-e74098de65a4",
   "metadata": {},
   "outputs": [
    {
     "name": "stdout",
     "output_type": "stream",
     "text": [
      "0번째 이름은 Alice\n",
      "1번째 이름은 Bob\n",
      "2번째 이름은 Charlie\n"
     ]
    }
   ],
   "source": [
    "names = [\"Alice\", \"Bob\", \"Charlie\"]\n",
    "\n",
    "for idx, name in enumerate(names):\n",
    "    print(f'{idx}번째 이름은 {name}')"
   ]
  },
  {
   "cell_type": "markdown",
   "id": "afdfb384-fd41-4949-893d-a72254685dda",
   "metadata": {},
   "source": [
    "14. 사용자에게 정수 n을 입력받아, 높이가 n인 간단한 왼쪽 정렬 별 피라미드를 출력하세요. 예를 들어 n=4일 때,\n",
    "\n",
    "```\n",
    "*\n",
    "**\n",
    "***\n",
    "****\n",
    "```"
   ]
  },
  {
   "cell_type": "code",
   "execution_count": 27,
   "id": "2d94d115-ca39-4965-bc58-720c9f79be8f",
   "metadata": {},
   "outputs": [
    {
     "name": "stdout",
     "output_type": "stream",
     "text": [
      "     *\n",
      "    **\n",
      "   ***\n",
      "  ****\n",
      " *****\n"
     ]
    }
   ],
   "source": [
    "for i in range(0, 5):\n",
    "    for j in range(0, 5-i):\n",
    "        print(' ', end='')\n",
    "\n",
    "    for j in range(0, i+1):\n",
    "        print('*', end='')\n",
    "\n",
    "    print()"
   ]
  },
  {
   "cell_type": "markdown",
   "id": "f9b58dc5-46e1-49e3-85e4-3d86c4244475",
   "metadata": {},
   "source": [
    "6. 사용자로부터 양의 정수를 입력받고, while문을 사용하여 그 정수의 자릿수가 몇 개인지 계산한 후 출력하는 코드를 작성하세요."
   ]
  },
  {
   "cell_type": "code",
   "execution_count": 7,
   "id": "e59c6493-cdab-4007-a5cd-c9c47b29ca0c",
   "metadata": {},
   "outputs": [
    {
     "name": "stdin",
     "output_type": "stream",
     "text": [
      "정수를 입력하세요 :  123\n"
     ]
    },
    {
     "data": {
      "text/plain": [
       "3"
      ]
     },
     "execution_count": 7,
     "metadata": {},
     "output_type": "execute_result"
    }
   ],
   "source": [
    "n = int(input('정수를 입력하세요 : '))\n",
    "\n",
    "sum = 0\n",
    "\n",
    "while n != 0:\n",
    "    n //= 10\n",
    "    sum += 1\n",
    "\n",
    "sum"
   ]
  },
  {
   "cell_type": "markdown",
   "id": "370657e2-4a74-4f88-857e-637a884946e9",
   "metadata": {},
   "source": [
    "7.사용자로부터 양의 정수를 입력받고, while문을 사용하여 정수의 각 자리수를 오른쪽(일의 자리)부터 한 줄씩 출력하는 코드를 작성하세요."
   ]
  },
  {
   "cell_type": "code",
   "execution_count": null,
   "id": "787c8999-970c-4756-9f0d-cf2fbf96bc41",
   "metadata": {},
   "outputs": [],
   "source": []
  },
  {
   "cell_type": "markdown",
   "id": "3b6b0dcb-f2fd-47dd-a211-1d8b5a399f0c",
   "metadata": {},
   "source": [
    "Car 클래스를 만들고, __init__에서 brand, model, year를 받아서 인스턴스 변수를 저장하게 해보세요.  \n",
    "describe() 메서드를 만들어, \"브랜드: ..., 모델: ..., 연식: ...\" 형태로 출력하게 해보세요."
   ]
  },
  {
   "cell_type": "code",
   "execution_count": null,
   "id": "8095efe8-7205-438c-9b45-1196042567c9",
   "metadata": {},
   "outputs": [],
   "source": []
  },
  {
   "cell_type": "markdown",
   "id": "3f503b06-ec11-4076-8b72-dc0790b568bc",
   "metadata": {},
   "source": [
    "6. gapminder 데이터셋의 gdpPercap 컬럼에 대해 백분율 순위를 계산하여 새로운 컬럼 gdpPercap_pct_rank에 저장하세요."
   ]
  },
  {
   "cell_type": "code",
   "execution_count": 31,
   "id": "3687ce2f-1aa6-4bad-ac63-9e79c616d006",
   "metadata": {},
   "outputs": [
    {
     "data": {
      "text/html": [
       "<div>\n",
       "<style scoped>\n",
       "    .dataframe tbody tr th:only-of-type {\n",
       "        vertical-align: middle;\n",
       "    }\n",
       "\n",
       "    .dataframe tbody tr th {\n",
       "        vertical-align: top;\n",
       "    }\n",
       "\n",
       "    .dataframe thead th {\n",
       "        text-align: right;\n",
       "    }\n",
       "</style>\n",
       "<table border=\"1\" class=\"dataframe\">\n",
       "  <thead>\n",
       "    <tr style=\"text-align: right;\">\n",
       "      <th></th>\n",
       "      <th>gdpPercap_pct_rank</th>\n",
       "    </tr>\n",
       "  </thead>\n",
       "  <tbody>\n",
       "    <tr>\n",
       "      <th>0</th>\n",
       "      <td>0.000587</td>\n",
       "    </tr>\n",
       "    <tr>\n",
       "      <th>1</th>\n",
       "      <td>0.001174</td>\n",
       "    </tr>\n",
       "    <tr>\n",
       "      <th>2</th>\n",
       "      <td>0.001761</td>\n",
       "    </tr>\n",
       "    <tr>\n",
       "      <th>3</th>\n",
       "      <td>0.002347</td>\n",
       "    </tr>\n",
       "    <tr>\n",
       "      <th>4</th>\n",
       "      <td>0.002934</td>\n",
       "    </tr>\n",
       "    <tr>\n",
       "      <th>...</th>\n",
       "      <td>...</td>\n",
       "    </tr>\n",
       "    <tr>\n",
       "      <th>1699</th>\n",
       "      <td>0.997653</td>\n",
       "    </tr>\n",
       "    <tr>\n",
       "      <th>1700</th>\n",
       "      <td>0.998239</td>\n",
       "    </tr>\n",
       "    <tr>\n",
       "      <th>1701</th>\n",
       "      <td>0.998826</td>\n",
       "    </tr>\n",
       "    <tr>\n",
       "      <th>1702</th>\n",
       "      <td>0.999413</td>\n",
       "    </tr>\n",
       "    <tr>\n",
       "      <th>1703</th>\n",
       "      <td>1.000000</td>\n",
       "    </tr>\n",
       "  </tbody>\n",
       "</table>\n",
       "<p>1704 rows × 1 columns</p>\n",
       "</div>"
      ],
      "text/plain": [
       "      gdpPercap_pct_rank\n",
       "0               0.000587\n",
       "1               0.001174\n",
       "2               0.001761\n",
       "3               0.002347\n",
       "4               0.002934\n",
       "...                  ...\n",
       "1699            0.997653\n",
       "1700            0.998239\n",
       "1701            0.998826\n",
       "1702            0.999413\n",
       "1703            1.000000\n",
       "\n",
       "[1704 rows x 1 columns]"
      ]
     },
     "execution_count": 31,
     "metadata": {},
     "output_type": "execute_result"
    }
   ],
   "source": [
    "import pandas as pd\n",
    "\n",
    "df = pd.read_csv('gapminder.tsv', sep='\\t')\n",
    "\n",
    "df['gdpPercap_pct_rank'] = df['gdpPercap'].rank(pct = True)\n",
    "df['gdpPercap_pct_rank'].sort_values(ignore_index=True).to_frame()"
   ]
  },
  {
   "cell_type": "markdown",
   "id": "a2e18712-bd0c-44e5-96c3-8b8a2ac4d019",
   "metadata": {},
   "source": [
    "3. 'Score' 열에 결측치가 있는 행들의 'ID'와 'Name' 열만 출력하시오."
   ]
  },
  {
   "cell_type": "code",
   "execution_count": null,
   "id": "9f7fbb5f-dd01-428b-a517-d01735265777",
   "metadata": {},
   "outputs": [],
   "source": []
  },
  {
   "cell_type": "markdown",
   "id": "93f70610-d664-4676-8d93-567d93198062",
   "metadata": {},
   "source": [
    "결측치 처리, 데이터 집단화 다시 풀기"
   ]
  },
  {
   "cell_type": "code",
   "execution_count": null,
   "id": "3f01a2b7-d53c-43db-b25d-963f2f60f5c4",
   "metadata": {},
   "outputs": [],
   "source": []
  }
 ],
 "metadata": {
  "kernelspec": {
   "display_name": "Python [conda env:base] *",
   "language": "python",
   "name": "conda-base-py"
  },
  "language_info": {
   "codemirror_mode": {
    "name": "ipython",
    "version": 3
   },
   "file_extension": ".py",
   "mimetype": "text/x-python",
   "name": "python",
   "nbconvert_exporter": "python",
   "pygments_lexer": "ipython3",
   "version": "3.12.7"
  }
 },
 "nbformat": 4,
 "nbformat_minor": 5
}
