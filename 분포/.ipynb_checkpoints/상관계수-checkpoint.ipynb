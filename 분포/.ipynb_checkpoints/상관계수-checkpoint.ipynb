{
 "cells": [
  {
   "cell_type": "markdown",
   "id": "ad951d98-b316-4040-a33c-b00dc32f467d",
   "metadata": {},
   "source": [
    "# 상관계수\n",
    "상관계수는 두 변수 간의 선형적 관계의 강도와 방향을 나타내는 지표입니다. 가장 대표적인 상관계수는 ```피어슨 상관계수(Pearson correlation coefficient)```로, 두 변수의 공분산을 각 변수의 표준편차의 곱으로 나눈 값으로 정의됩니다."
   ]
  },
  {
   "cell_type": "code",
   "execution_count": 25,
   "id": "3a0f2148-ad4d-44d2-822e-35c30937f396",
   "metadata": {},
   "outputs": [
    {
     "data": {
      "text/plain": [
       "0.7745966692414834"
      ]
     },
     "execution_count": 25,
     "metadata": {},
     "output_type": "execute_result"
    }
   ],
   "source": [
    "import numpy as np\n",
    "\n",
    "X = np.array([1, 2, 3, 4, 5])\n",
    "Y = np.array([2, 4, 5, 4, 5])\n",
    "\n",
    "mean_x = X.mean()\n",
    "mean_y = Y.mean()\n",
    "\n",
    "# 공분산\n",
    "covariance = sum((X - mean_x) * (Y - mean_y)) / (5 - 1)\n",
    "covariance\n",
    "\n",
    "# 각각의 표준편차\n",
    "std_x = np.sqrt(sum((X - mean_x) ** 2) / 4)\n",
    "std_y = np.sqrt(sum((Y - mean_y) ** 2) / 4)\n",
    "\n",
    "# ~1 ~ 1 상관계수\n",
    "# 1에 가까울수록 강한 양의 상관관계\n",
    "# -1에 가까울수록 강한 음의 상관관계 -> 하나는 올라가는데 하나는 떨어지는거\n",
    "# 0에 가까울수록 상관 X\n",
    "\n",
    "# 주로 0.3보다 크면 어느정도 관계가 있다, 0.7보다 크면 아주 강한 상관관계가 있다.\n",
    "correlation = covariance / (std_x * std_y)\n",
    "correlation"
   ]
  },
  {
   "cell_type": "code",
   "execution_count": 33,
   "id": "c4e130a5-7ae7-435e-8674-5173f8959de0",
   "metadata": {},
   "outputs": [
    {
     "data": {
      "text/plain": [
       "PearsonRResult(statistic=0.7745966692414835, pvalue=0.12402706265755456)"
      ]
     },
     "execution_count": 33,
     "metadata": {},
     "output_type": "execute_result"
    }
   ],
   "source": [
    "from scipy.stats import pearsonr\n",
    "pearsonr(X, Y)\n",
    "\n",
    "# pvalue 값이 낮아야 신뢰도가 있다.\n",
    "# 높으면 우연 일 수도 ..."
   ]
  },
  {
   "cell_type": "markdown",
   "id": "0bcd3c40-e9ce-453d-9cdb-9ef146f80a5d",
   "metadata": {},
   "source": [
    "## 피어슨 상관계수 (Pearson Correlation Coefficient)\n",
    "* 선형 관계: 두 변수 간의 관계가 직선(linear) 형태일 때 사용합니다.\n",
    "* 연속형 변수: 데이터가 연속형이며, 정규분포를 따르는 경우에 적합합니다.\n",
    "* 등간척도: 변수들이 등간척도(interval scale)일 때 적합합니다."
   ]
  },
  {
   "cell_type": "code",
   "execution_count": 4,
   "id": "cbb9a32b-da2a-40d0-85b6-2f9c23df791d",
   "metadata": {},
   "outputs": [],
   "source": [
    "import matplotlib.pyplot as plt\n",
    "import koreanize_matplotlib\n",
    "import scipy.stats as stats\n",
    "\n",
    "X = np.array([0.5488135 , 0.71518937, 0.60276338, 0.54488318, 0.4236548 ,\n",
    "       0.64589411, 0.43758721, 0.891773  , 0.96366276, 0.38344152,\n",
    "       0.79172504, 0.52889492, 0.56804456, 0.92559664, 0.07103606,\n",
    "       0.0871293 , 0.0202184 , 0.83261985, 0.77815675, 0.87001215,\n",
    "       0.97861834, 0.79915856, 0.46147936, 0.78052918, 0.11827443,\n",
    "       0.63992102, 0.14335329, 0.94466892, 0.52184832, 0.41466194])\n",
    "\n",
    "Y = np.array([1.18407063e+00, 1.35616223e+00, 1.43250221e+00, 9.44329799e-01,\n",
    "       8.51885450e-01, 1.27306984e+00, 1.02845234e+00, 1.93048188e+00,\n",
    "       1.94282026e+00, 8.04699290e-01, 1.49467150e+00, 8.59710193e-01,\n",
    "       1.10129791e+00, 1.86682817e+00, 2.65101184e-01, 2.94496584e-01,\n",
    "       1.70411314e-03, 1.63500942e+00, 1.45145821e+00, 1.59802250e+00,\n",
    "       1.78660967e+00, 1.79339467e+00, 8.71993506e-01, 1.51725092e+00,\n",
    "       1.11269316e-01, 1.35759108e+00, 1.25316790e-01, 1.86806381e+00,\n",
    "       9.54149987e-01, 8.68014130e-01])"
   ]
  },
  {
   "cell_type": "markdown",
   "id": "1778c8a7-2813-4e3a-9fc5-863cdbf8c506",
   "metadata": {},
   "source": [
    "## 스피어만 상관계수 (Spearman Rank Correlation Coefficient)\n",
    "* 순위 기반 관계: 데이터의 순위를 기반으로 두 변수 간의 단조(monotonic) 관계를 평가할 때 사용합니다.\n",
    "* 비선형 관계: 관계가 반드시 선형적이지 않더라도 단조적인(즉, 증가하거나 감소하는) 경향이 있는 경우 적합합니다.\n",
    "* 비정규분포: 데이터가 정규분포를 따르지 않거나 이상치(outlier)에 민감할 때도 사용됩니다."
   ]
  },
  {
   "cell_type": "code",
   "execution_count": 5,
   "id": "489461c5-1ca9-4c0e-a8ec-593cc5aec1f3",
   "metadata": {},
   "outputs": [],
   "source": [
    "from scipy.stats import spearmanr\n",
    "\n",
    "X = np.array([ 1,  2,  3,  4,  5,  6,  7,  8,  9, 10, 11, 12, 13, 14, 15, 16, 17,\n",
    "       18, 19, 20, 21, 22, 23, 24, 25, 26, 27, 28, 29, 30])\n",
    "\n",
    "Y = np.array([0.17640523, 0.7331629 , 1.19648609, 1.61038368, 1.79619371,\n",
    "       1.69403168, 2.04091899, 2.06430582, 2.18690269, 2.34364494,\n",
    "       2.41229963, 2.630334  , 2.64105313, 2.65122483, 2.75243652,\n",
    "       2.80595615, 2.98262125, 2.86985593, 2.97574575, 2.9103227 ,\n",
    "       2.78922346, 3.15640431, 3.22193784, 3.10383733, 3.44585129,\n",
    "       3.11265997, 3.30041272, 3.31348613, 3.52057375, 3.54813326])"
   ]
  },
  {
   "cell_type": "markdown",
   "id": "41cda35d-106a-4871-9312-46f30790b8c1",
   "metadata": {},
   "source": [
    "## 켄달의 타우 (Kendall's Tau)\n",
    "* 순위 일관성 평가: 두 변수 간 순위의 일관성을 평가할 때 사용합니다.\n",
    "* 소규모 데이터: 샘플 크기가 작거나, 순위가 많이 겹치는(tied ranks) 경우에 적합합니다.\n",
    "* 비모수적 방법: 데이터의 분포에 대한 가정 없이 순위 관계만 평가하므로 비모수적(non-parametric) 방법입니다."
   ]
  },
  {
   "cell_type": "code",
   "execution_count": 11,
   "id": "4e21b560-8320-47e8-9bcb-4ba8671f2fe3",
   "metadata": {},
   "outputs": [],
   "source": [
    "from scipy.stats import kendalltau"
   ]
  },
  {
   "cell_type": "markdown",
   "id": "1acbfc46-baa5-43e3-9060-8884034c52c9",
   "metadata": {},
   "source": [
    "* Pandas의 상관 계수 함수"
   ]
  },
  {
   "cell_type": "code",
   "execution_count": 12,
   "id": "64448e62-2ff6-4e5a-b04a-5f436d3fc9cd",
   "metadata": {},
   "outputs": [],
   "source": [
    "import seaborn as sns"
   ]
  },
  {
   "cell_type": "markdown",
   "id": "fa9530e9-b78a-4d49-a07c-8deca63f8345",
   "metadata": {},
   "source": [
    "## 연습문제\n",
    "1. 두 변수 X와 Y가 주어졌을 때, 피어슨 상관계수를 구하여 두 변수 간의 선형 관계의 강도와 방향을 해석하세요.\n",
    "\n",
    "* X: [1, 2, 3, 4, 5]\n",
    "* Y: [2, 4, 5, 4, 5]"
   ]
  },
  {
   "cell_type": "code",
   "execution_count": null,
   "id": "8afba30b-9459-48a6-9908-59493b887d37",
   "metadata": {},
   "outputs": [],
   "source": []
  },
  {
   "cell_type": "markdown",
   "id": "ad05cd00-3bde-4d52-b5fb-1df380d3b852",
   "metadata": {},
   "source": [
    "2. 다음 데이터는 선형 관계는 아닐 수 있지만 단조(monotonic) 관계를 가집니다. 두 변수의 순위를 고려하여 스피어만 상관계수를 구하고, 그 결과를 해석하세요.\n",
    "\n",
    "* X: [1, 2, 3, 4, 5]\n",
    "* Y: [3, 1, 4, 2, 5]"
   ]
  },
  {
   "cell_type": "code",
   "execution_count": null,
   "id": "d19849ce-42ed-4293-a6e4-5c4889d93ab0",
   "metadata": {},
   "outputs": [],
   "source": []
  },
  {
   "cell_type": "markdown",
   "id": "c5fe5821-7688-4d3a-a595-8d18ff31de9e",
   "metadata": {},
   "source": [
    "3. 다음 데이터는 동점(같은 값)이 포함된 순위 데이터입니다. 켄달의 타우 상관계수를 구하여 두 변수 간의 순위 일관성을 평가하세요.\n",
    "\n",
    "* X: [1, 2, 2, 3, 4, 5, 5]\n",
    "* Y: [5, 3, 3, 4, 2, 1, 1]"
   ]
  },
  {
   "cell_type": "code",
   "execution_count": null,
   "id": "a0773b1b-291c-4c95-9b18-6c7a6b5b9049",
   "metadata": {},
   "outputs": [],
   "source": []
  }
 ],
 "metadata": {
  "kernelspec": {
   "display_name": "Python [conda env:base] *",
   "language": "python",
   "name": "conda-base-py"
  },
  "language_info": {
   "codemirror_mode": {
    "name": "ipython",
    "version": 3
   },
   "file_extension": ".py",
   "mimetype": "text/x-python",
   "name": "python",
   "nbconvert_exporter": "python",
   "pygments_lexer": "ipython3",
   "version": "3.12.7"
  }
 },
 "nbformat": 4,
 "nbformat_minor": 5
}
