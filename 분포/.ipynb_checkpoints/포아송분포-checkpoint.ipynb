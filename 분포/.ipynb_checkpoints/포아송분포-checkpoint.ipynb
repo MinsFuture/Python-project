{
 "cells": [
  {
   "cell_type": "markdown",
   "id": "ebf940c1-ef70-40cc-a7c1-f6a7bc696222",
   "metadata": {},
   "source": [
    "# 포아송분포\n",
    "포아송분포(Poisson Distribution)는 단위 시간이나 단위 공간 내에서 어떤 사건이 발생하는 횟수를 모델링할 때 사용됩니다. 여기서 사건은 서로 독립적으로 발생하며, 단위 시간/공간 내에 평균적으로 일정한 횟수 λ (람다)로 발생한다고 가정합니다."
   ]
  },
  {
   "cell_type": "code",
   "execution_count": 1,
   "id": "c28b2f57-9e1b-4ff8-b571-695830b2457b",
   "metadata": {},
   "outputs": [],
   "source": [
    "import numpy as np\n",
    "import matplotlib.pyplot as plt\n",
    "from scipy.stats import poisson\n",
    "import koreanize_matplotlib"
   ]
  },
  {
   "cell_type": "markdown",
   "id": "5eb5758f-f24c-4911-9c93-8b691f25af84",
   "metadata": {},
   "source": [
    "## 연습문제\n",
    "1. 어떤 현장에서 1시간 동안 평균적으로 λ=4 건의 사건이 발생한다고 한다. 이때 1시간 동안 정확히 2건의 사건이 발생할 확률 P(X=2)를 구하라."
   ]
  },
  {
   "cell_type": "code",
   "execution_count": null,
   "id": "2b2d1c76-33d6-4753-b716-6b8abaf3f4bb",
   "metadata": {},
   "outputs": [],
   "source": []
  },
  {
   "cell_type": "markdown",
   "id": "81f85ffe-956d-4374-9392-532f7e7572de",
   "metadata": {},
   "source": [
    "2. 어떤 공장에서 분당 평균 3개의 결함이 발생한다고 한다.\n",
    "만약 2분 동안 결함이 발생한다고 할 때, 결함이 4개 이하로 발생할 누적 확률 P(X≤4)를 구하라."
   ]
  },
  {
   "cell_type": "code",
   "execution_count": null,
   "id": "38ca65c2-ef60-4994-81a4-cf9526742dad",
   "metadata": {},
   "outputs": [],
   "source": []
  },
  {
   "cell_type": "markdown",
   "id": "aa6f6bf2-f994-4812-9735-74d87a360644",
   "metadata": {},
   "source": [
    "3. 한 카페에는 하루에 평균 λ=10명의 고객이 방문한다고 한다.\n",
    "하루 동안 15명 이상의 고객이 방문할 확률 P(X≥15)를 구하라."
   ]
  },
  {
   "cell_type": "code",
   "execution_count": null,
   "id": "19996468-bfc9-4357-b6d0-aa0183422729",
   "metadata": {},
   "outputs": [],
   "source": []
  },
  {
   "cell_type": "markdown",
   "id": "0a53ea86-c641-4c8d-88b6-bc5a8d918f47",
   "metadata": {},
   "source": [
    "4. 어떤 버스 정류장에서 버스는 평균 2분에 한 대 도착한다.\n",
    "이때 5분 동안 도착하는 버스의 수가 2대 이하일 확률 P(X≤2)를 구하라."
   ]
  },
  {
   "cell_type": "code",
   "execution_count": null,
   "id": "902ae5d9-09d1-4dfa-8e08-85f45e552e62",
   "metadata": {},
   "outputs": [],
   "source": []
  },
  {
   "cell_type": "markdown",
   "id": "b6793634-f418-4f43-b116-1a6459efde22",
   "metadata": {},
   "source": [
    "5. 평균 λ=4인 포아송분포를 따르는 난수를 파이썬으로 10,000개 생성하고,\n",
    "이를 히스토그램으로 시각화한 후, 생성된 난수의 표본 평균과 표본 분산을 구하여 이론적 값과 비교해 보라."
   ]
  },
  {
   "cell_type": "code",
   "execution_count": null,
   "id": "88446dfa-4298-4a39-8ee3-da0e2d4cf02a",
   "metadata": {},
   "outputs": [],
   "source": []
  }
 ],
 "metadata": {
  "kernelspec": {
   "display_name": "Python 3 (ipykernel)",
   "language": "python",
   "name": "python3"
  },
  "language_info": {
   "codemirror_mode": {
    "name": "ipython",
    "version": 3
   },
   "file_extension": ".py",
   "mimetype": "text/x-python",
   "name": "python",
   "nbconvert_exporter": "python",
   "pygments_lexer": "ipython3",
   "version": "3.12.7"
  }
 },
 "nbformat": 4,
 "nbformat_minor": 5
}
