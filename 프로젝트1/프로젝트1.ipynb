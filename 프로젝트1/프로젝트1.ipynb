{
 "cells": [
  {
   "cell_type": "code",
   "execution_count": 5,
   "id": "3d14d886-046c-4de5-9028-46f9dca4510b",
   "metadata": {},
   "outputs": [],
   "source": [
    "import pandas as pd"
   ]
  },
  {
   "cell_type": "code",
   "execution_count": 219,
   "id": "98c1545f-500c-4737-a896-dadf41add101",
   "metadata": {},
   "outputs": [
    {
     "name": "stdout",
     "output_type": "stream",
     "text": [
      "Datetime\n",
      "2022    10810\n",
      "2023     2644\n",
      "dtype: int64\n"
     ]
    }
   ],
   "source": [
    "import pandas as pd\n",
    "\n",
    "# CSV 파일 불러오기\n",
    "df = pd.read_csv('기간 만료.csv')\n",
    "\n",
    "# 🔹 온라인 / 오프라인 분류\n",
    "online_channels = ['자체홈페이지', '홈쇼핑/방송', '홈쇼핑/인터넷']\n",
    "df['Channel_Type'] = df['Channel'].apply(lambda x: '온라인' if x in online_channels else '오프라인')\n",
    "\n",
    "# 🔹 'Datetime' 컬럼을 날짜 형식으로 변환 (연도 추출을 위해)\n",
    "df['Datetime'] = pd.to_datetime(df['Datetime'])\n",
    "\n",
    "# 🔹 2022년, 2023년의 온라인 사용자 수 계산\n",
    "online_users = df[df['Channel_Type'] == '온라인'].groupby(df['Datetime'].dt.year).size()\n",
    "\n",
    "# 🔹 2022년, 2023년 데이터 필터링\n",
    "online_users = online_users[online_users.index.isin([2022, 2023])]\n",
    "\n",
    "# 결과 출력\n",
    "print(online_users)\n"
   ]
  },
  {
   "cell_type": "code",
   "execution_count": 207,
   "id": "929e5b56-da01-4a34-9f04-e7959f719fee",
   "metadata": {},
   "outputs": [
    {
     "data": {
      "text/plain": [
       "('2021-12-31', '2023-08-07')"
      ]
     },
     "execution_count": 207,
     "metadata": {},
     "output_type": "execute_result"
    }
   ],
   "source": []
  },
  {
   "cell_type": "code",
   "execution_count": 221,
   "id": "489807a8-49f4-4f02-b6df-2cf738e66847",
   "metadata": {},
   "outputs": [
    {
     "name": "stdout",
     "output_type": "stream",
     "text": [
      "Year\n",
      "2021    2.040816\n",
      "2022    1.223981\n",
      "2023    1.304136\n",
      "dtype: float64\n"
     ]
    }
   ],
   "source": [
    "import pandas as pd\n",
    "\n",
    "# CSV 파일 불러오기\n",
    "df = pd.read_csv('기간 만료.csv')\n",
    "\n",
    "# 🔹 'Datetime' 컬럼을 날짜 형식으로 변환 (연도 추출을 위해)\n",
    "df['Datetime'] = pd.to_datetime(df['Datetime'])\n",
    "df['Year'] = df['Datetime'].dt.year  # 연도 추출\n",
    "\n",
    "# 🔹 해약 상태 분류\n",
    "cancellation_states = ['해약진행중', '해약확정']\n",
    "\n",
    "# 🔹 연도별 전체 계약 수\n",
    "total_contracts = df.groupby('Year').size()\n",
    "\n",
    "# 🔹 연도별 해약된 계약 수 (해약진행중 + 해약확정)\n",
    "canceled_contracts = df[df['State'].isin(cancellation_states)].groupby('Year').size()\n",
    "\n",
    "# 🔹 연도별 해약률 (%) 계산\n",
    "cancellation_rate = (canceled_contracts / total_contracts * 100).fillna(0)\n",
    "\n",
    "# 🔹 결과 출력\n",
    "print(cancellation_rate)\n"
   ]
  },
  {
   "cell_type": "code",
   "execution_count": null,
   "id": "b227e56b-5757-41a5-bcbc-1f97ddabeaa6",
   "metadata": {},
   "outputs": [],
   "source": []
  }
 ],
 "metadata": {
  "kernelspec": {
   "display_name": "Python [conda env:base] *",
   "language": "python",
   "name": "conda-base-py"
  },
  "language_info": {
   "codemirror_mode": {
    "name": "ipython",
    "version": 3
   },
   "file_extension": ".py",
   "mimetype": "text/x-python",
   "name": "python",
   "nbconvert_exporter": "python",
   "pygments_lexer": "ipython3",
   "version": "3.12.7"
  }
 },
 "nbformat": 4,
 "nbformat_minor": 5
}
