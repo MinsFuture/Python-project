{
 "cells": [
  {
   "cell_type": "markdown",
   "id": "b219ba7b-bbc0-4eda-877e-125382a7d35a",
   "metadata": {},
   "source": [
    "# 적합도 검정\n",
    "적합도 검정(goodness-of-fit test)은 관측된 데이터가 특정 분포(또는 기대하는 분포)와 얼마나 일치하는지를 평가하는 통계적 방법입니다.\n",
    "가장 많이 사용되는 적합도 검정 중 하나는 ```카이제곱 적합도 검정(chi-square goodness-of-fit test)```입니다."
   ]
  },
  {
   "cell_type": "code",
   "execution_count": 1,
   "id": "f1a03383-4ee1-44c2-ab57-b9295803d3f9",
   "metadata": {},
   "outputs": [],
   "source": [
    "import numpy as np\n",
    "from scipy import stats\n",
    "\n",
    "# 관측된 빈도\n",
    "observed = np.array([8, 9, 10, 12, 11, 10])"
   ]
  },
  {
   "cell_type": "code",
   "execution_count": 2,
   "id": "5f7c5a74-b9dc-41c4-9de2-2f5b9a733a21",
   "metadata": {},
   "outputs": [],
   "source": [
    "from scipy import stats\n",
    "\n",
    "# 이 도시에서 조사된 아이스크림 맛 선호도는 바닐라 150명, 초코 120명, 딸기 30명으로 조사되었다.\n",
    "# 전국적인 아이스크림 맛 선호도는 바닐라 50%, 초코 35%, 딸기 15%로 알려져 있다.\n",
    "# 유의수준 0.05 에서 아이스크림 맛 선호도는 전국적인 맛 선호도와 차이가 있는가?\n",
    "\n",
    "# 귀무가설: 이 도시의 아이스크림 맛 선호도는 전국적인 선호도와 동일하다.\n",
    "# 대립가설: 이 도시의 아이스크림 맛 선호도는 전국적인 선호도와 다르다.\n",
    "\n",
    "observed = [150, 120, 30]"
   ]
  },
  {
   "cell_type": "markdown",
   "id": "97999668-ee01-4f34-b30f-7cb10115ed84",
   "metadata": {},
   "source": [
    "## 연습문제\n",
    "1. 어떤 6면체 주사위를 120번 던진 결과, 각 면이 나온 횟수가 아래와 같이 관측되었습니다.  \n",
    "관측 빈도: [15, 25, 20, 22, 18, 20]\n",
    "\n",
    "이 주사위가 공정하여 모든 면이 동일한 확률(1/6)로 나올 것이라는 귀무가설(H₀)을 세우고, 카이제곱 적합도 검정을 실시하여 주사위가 공정한지 판단하시오."
   ]
  },
  {
   "cell_type": "code",
   "execution_count": null,
   "id": "2388e718-e737-4521-aafa-fe9024dfb0db",
   "metadata": {},
   "outputs": [],
   "source": []
  },
  {
   "cell_type": "markdown",
   "id": "adaa3bfb-2de3-4362-92bc-5b26227224f7",
   "metadata": {},
   "source": [
    "2. 멘델의 단순 유전 실험에서는 한 대립형질이 우성일 때, 이형접합 교배 결과 자손의 표현형 비율이 3:1이 될 것으로 기대합니다.\n",
    "어느 실험에서 100개의 자손을 관측한 결과, 우성형질을 가진 자손이 70명, 열성형질을 가진 자손이 30명이 나왔습니다.\n",
    "\n",
    "귀무가설(H₀)을 \"실제 비율은 3:1이다\"로 설정하고, 카이제곱 적합도 검정을 통해 관측된 결과가 기대 비율(3:1)과 유의하게 차이가 있는지 검정하시오."
   ]
  },
  {
   "cell_type": "code",
   "execution_count": null,
   "id": "9112986a-d6ce-4450-8feb-4a992ab9b557",
   "metadata": {},
   "outputs": [],
   "source": []
  }
 ],
 "metadata": {
  "kernelspec": {
   "display_name": "Python 3 (ipykernel)",
   "language": "python",
   "name": "python3"
  },
  "language_info": {
   "codemirror_mode": {
    "name": "ipython",
    "version": 3
   },
   "file_extension": ".py",
   "mimetype": "text/x-python",
   "name": "python",
   "nbconvert_exporter": "python",
   "pygments_lexer": "ipython3",
   "version": "3.12.7"
  }
 },
 "nbformat": 4,
 "nbformat_minor": 5
}
