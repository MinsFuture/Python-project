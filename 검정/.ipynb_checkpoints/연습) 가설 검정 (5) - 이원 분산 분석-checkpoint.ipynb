{
 "cells": [
  {
   "cell_type": "markdown",
   "id": "2f5a1280-893d-4cdf-8886-33e9f2db8caa",
   "metadata": {},
   "source": [
    "# 이원 분산 분석\n",
    "이원 분산 분석(Two-way ANOVA)은 두 개의 범주형 독립변수(요인)가 종속변수에 미치는 영향을 동시에 검정하는 통계 기법입니다. 이 분석을 통해 각 요인의 주 효과(Main Effect)와 두 요인 간의 상호작용(Interaction Effect)이 종속변수에 미치는 영향을 파악할 수 있습니다.\n",
    "\n",
    "이원 분산 분석에서는 세 가지 가설을 검정합니다.\n",
    "\n",
    "```\n",
    "요인 A의 주 효과\n",
    "귀무가설 : 요인 A의 모든 수준에서 종속변수의 평균이 동일하다.\n",
    "대립가설 : 적어도 한 수준에서 평균에 차이가 있다.\n",
    "\n",
    "요인 B의 주 효과\n",
    "귀무가설 : 요인 B의 모든 수준에서 종속변수의 평균이 동일하다.\n",
    "대립가설 : 적어도 한 수준에서 평균에 차이가 있다.\n",
    "\n",
    "상호작용 효과\n",
    "귀무가설 : 요인 A와 요인 B 간에 상호작용 효과가 없다.\n",
    "대립가설 : 요인 A와 요인 B가 결합하여 종속변수에 미치는 영향이 다르다.\n",
    "```\n",
    "\n",
    "* 정규성: 각 그룹(요인 조합)의 잔차가 정규분포를 따라야 합니다.\n",
    "* 등분산성(동질성): 모든 그룹의 분산이 동일해야 합니다.\n",
    "* 독립성: 각 관측치는 서로 독립적이어야 합니다."
   ]
  },
  {
   "cell_type": "code",
   "execution_count": 129,
   "id": "556e79d0-0220-421f-a473-3115a40e12a3",
   "metadata": {},
   "outputs": [
    {
     "data": {
      "text/html": [
       "<div>\n",
       "<style scoped>\n",
       "    .dataframe tbody tr th:only-of-type {\n",
       "        vertical-align: middle;\n",
       "    }\n",
       "\n",
       "    .dataframe tbody tr th {\n",
       "        vertical-align: top;\n",
       "    }\n",
       "\n",
       "    .dataframe thead th {\n",
       "        text-align: right;\n",
       "    }\n",
       "</style>\n",
       "<table border=\"1\" class=\"dataframe\">\n",
       "  <thead>\n",
       "    <tr style=\"text-align: right;\">\n",
       "      <th></th>\n",
       "      <th>나무</th>\n",
       "      <th>비료</th>\n",
       "      <th>성장률</th>\n",
       "    </tr>\n",
       "  </thead>\n",
       "  <tbody>\n",
       "    <tr>\n",
       "      <th>0</th>\n",
       "      <td>A</td>\n",
       "      <td>1</td>\n",
       "      <td>54.967142</td>\n",
       "    </tr>\n",
       "    <tr>\n",
       "      <th>1</th>\n",
       "      <td>A</td>\n",
       "      <td>1</td>\n",
       "      <td>48.617357</td>\n",
       "    </tr>\n",
       "    <tr>\n",
       "      <th>2</th>\n",
       "      <td>A</td>\n",
       "      <td>1</td>\n",
       "      <td>56.476885</td>\n",
       "    </tr>\n",
       "    <tr>\n",
       "      <th>3</th>\n",
       "      <td>A</td>\n",
       "      <td>1</td>\n",
       "      <td>65.230299</td>\n",
       "    </tr>\n",
       "    <tr>\n",
       "      <th>4</th>\n",
       "      <td>A</td>\n",
       "      <td>1</td>\n",
       "      <td>47.658466</td>\n",
       "    </tr>\n",
       "  </tbody>\n",
       "</table>\n",
       "</div>"
      ],
      "text/plain": [
       "  나무  비료        성장률\n",
       "0  A   1  54.967142\n",
       "1  A   1  48.617357\n",
       "2  A   1  56.476885\n",
       "3  A   1  65.230299\n",
       "4  A   1  47.658466"
      ]
     },
     "execution_count": 129,
     "metadata": {},
     "output_type": "execute_result"
    }
   ],
   "source": [
    "import pandas as pd\n",
    "\n",
    "tree = pd.read_csv(\"tree.csv\")\n",
    "tree.head()"
   ]
  },
  {
   "cell_type": "code",
   "execution_count": 131,
   "id": "7f4480b0-09d8-4414-8b2e-87614416f809",
   "metadata": {},
   "outputs": [
    {
     "data": {
      "image/png": "[encoded data removed]",
      "text/plain": [
       "<Figure size 640x480 with 1 Axes>"
      ]
     },
     "metadata": {},
     "output_type": "display_data"
    }
   ],
   "source": [
    "import seaborn as sns\n",
    "import koreanize_matplotlib\n",
    "import matplotlib.pyplot as plt\n",
    "\n",
    "# 나무별 비료별 성장률 차이\n",
    "sns.boxplot(data=tree, x = '나무', y = '성장률', hue = '비료')\n",
    "plt.show()"
   ]
  },
  {
   "cell_type": "code",
   "execution_count": 132,
   "id": "1acb4bf2-03f1-4b61-9efa-686ba86df4ad",
   "metadata": {},
   "outputs": [
    {
     "name": "stdout",
     "output_type": "stream",
     "text": [
      "('A', 1) : 정규성을 만족합니다\n",
      "('A', 2) : 정규성을 만족합니다\n",
      "('A', 3) : 정규성을 만족합니다\n",
      "('B', 1) : 정규성을 만족합니다\n",
      "('B', 2) : 정규성을 만족합니다\n",
      "('B', 3) : 정규성을 만족합니다\n",
      "('C', 1) : 정규성을 만족합니다\n",
      "('C', 2) : 정규성을 만족합니다\n",
      "('C', 3) : 정규성을 만족합니다\n",
      "('D', 1) : 정규성을 만족합니다\n",
      "('D', 2) : 정규성을 만족합니다\n",
      "('D', 3) : 정규성을 만족합니다\n"
     ]
    }
   ],
   "source": [
    "from statsmodels.formula.api import ols\n",
    "import statsmodels.api as sm\n",
    "import scipy.stats as stats\n",
    "\n",
    "# 나무 A이면서 비료 1, 2, 3\n",
    "# 나무 B이면서 비료 1, 2 ,3\n",
    "# 나무 C이면서 비료 1, 2 ,3\n",
    "# 나무 D이면서 비료 1, 2 ,3\n",
    "\n",
    "\n",
    "\n",
    "for name, df in tree.groupby(['나무', '비료']):\n",
    "    st, p = stats.shapiro(df['성장률'])\n",
    "    if p > 0.05:\n",
    "        print(f'{name} : 정규성을 만족합니다')\n",
    "    df_levene.append(df['성장률'])"
   ]
  },
  {
   "cell_type": "code",
   "execution_count": 135,
   "id": "af3da3f5-231c-4523-918b-6f3cd6fbb0c7",
   "metadata": {},
   "outputs": [
    {
     "data": {
      "text/plain": [
       "LeveneResult(statistic=0.6304294467759755, pvalue=0.7993202544770084)"
      ]
     },
     "execution_count": 135,
     "metadata": {},
     "output_type": "execute_result"
    }
   ],
   "source": [
    "# 12개 집단 분산검정\n",
    "df_levene = []\n",
    "\n",
    "for name, df in tree.groupby(['나무', '비료']):\n",
    "    df_levene.append(df['성장률'])\n",
    "    \n",
    "stats.levene(*df_levene)"
   ]
  },
  {
   "cell_type": "code",
   "execution_count": 137,
   "id": "474252b8-29ea-4895-8f67-9b656a4b906b",
   "metadata": {},
   "outputs": [
    {
     "name": "stdout",
     "output_type": "stream",
     "text": [
      "                df       sum_sq      mean_sq          F        PR(>F)\n",
      "C(나무)          3.0  4783.353938  1594.451313  18.855528  6.600012e-10\n",
      "C(비료)          2.0  1127.924259   563.962129   6.669256  1.857612e-03\n",
      "C(나무):C(비료)    6.0   717.520672   119.586779   1.414199  2.157357e-01\n",
      "Residual     108.0  9132.639448    84.561476        NaN           NaN\n"
     ]
    }
   ],
   "source": [
    "from statsmodels.formula.api import ols\n",
    "import statsmodels.api as sm\n",
    "\n",
    "model = ols('성장률 ~ C(나무) * C(비료)', data=tree).fit()\n",
    "print(sm.stats.anova_lm(model))"
   ]
  },
  {
   "cell_type": "code",
   "execution_count": 139,
   "id": "c58df2cc-8f22-47cc-9847-a41f90284f45",
   "metadata": {},
   "outputs": [
    {
     "name": "stdout",
     "output_type": "stream",
     "text": [
      "Multiple Comparison of Means - Tukey HSD, FWER=0.05 \n",
      "====================================================\n",
      "group1 group2 meandiff p-adj   lower   upper  reject\n",
      "----------------------------------------------------\n",
      "     A      B   5.6698 0.1143 -0.8776 12.2173  False\n",
      "     A      C  12.0103    0.0  5.4628 18.5578   True\n",
      "     A      D   16.679    0.0 10.1315 23.2264   True\n",
      "     B      C   6.3405 0.0614  -0.207 12.8879  False\n",
      "     B      D  11.0091 0.0002  4.4616 17.5566   True\n",
      "     C      D   4.6686 0.2517 -1.8788 11.2161  False\n",
      "----------------------------------------------------\n"
     ]
    },
    {
     "data": {
      "image/png": "[encoded data removed]",
      "text/plain": [
       "<Figure size 1000x600 with 1 Axes>"
      ]
     },
     "metadata": {},
     "output_type": "display_data"
    }
   ],
   "source": [
    "from statsmodels.stats.multicomp import pairwise_tukeyhsd\n",
    "\n",
    "report = pairwise_tukeyhsd(endog=tree['성장률'], groups=tree['나무'], alpha=0.05)\n",
    "print(report)\n",
    "\n",
    "# 나무 A, B 사이에 평균차이는 통계적으로 유의미한 차이가 없다\n",
    "\n",
    "report.plot_simultaneous()\n",
    "plt.show()"
   ]
  },
  {
   "cell_type": "markdown",
   "id": "60687bac-b5a5-4de5-a9ad-819c48416a28",
   "metadata": {},
   "source": [
    "## 연습문제\n",
    "한 연구자가 체중 감량에 미치는 두 가지 요인의 효과를 조사하고자 하였습니다.\n",
    "\n",
    "```\n",
    "요인 1: 식이 요법 (Diet)\n",
    "    - 수준: 고단백 (HighProtein), 저탄수화물 (LowCarb), 균형 잡힌 식단 (Balanced)\n",
    "\n",
    "요인 2: 운동 강도 (Exercise)\n",
    "    - 수준: 낮음 (Low), 높음 (High)\n",
    "```\n",
    "\n",
    "주효과와 상호작용 효과를 포함하는 이원 분산 분석 모형을 구축하세요. (유의수준 0.05)"
   ]
  },
  {
   "cell_type": "code",
   "execution_count": 156,
   "id": "b98de037-df1c-431f-836b-112f4cd1a891",
   "metadata": {},
   "outputs": [
    {
     "data": {
      "text/plain": [
       "<Axes: xlabel='Diet', ylabel='WeightLoss'>"
      ]
     },
     "execution_count": 156,
     "metadata": {},
     "output_type": "execute_result"
    },
    {
     "data": {
      "image/png": "[encoded data removed]",
      "text/plain": [
       "<Figure size 640x480 with 1 Axes>"
      ]
     },
     "metadata": {},
     "output_type": "display_data"
    }
   ],
   "source": [
    "df = pd.read_csv(\"식이요법과 운동강도.csv\")\n",
    "df.head()\n",
    "\n",
    "sns.boxenplot(data=df, x = 'Diet', y = 'WeightLoss', hue = 'Exercise')"
   ]
  },
  {
   "cell_type": "code",
   "execution_count": 148,
   "id": "7e283b7c-b782-4677-af52-c4a6de47902e",
   "metadata": {},
   "outputs": [
    {
     "name": "stdout",
     "output_type": "stream",
     "text": [
      "                       df    sum_sq   mean_sq           F        PR(>F)\n",
      "C(Diet)               2.0  3.446000  1.723000   93.135135  4.888779e-12\n",
      "C(Exercise)           1.0  3.333333  3.333333  180.180180  1.187511e-12\n",
      "C(Diet):C(Exercise)   2.0  0.116667  0.058333    3.153153  6.083294e-02\n",
      "Residual             24.0  0.444000  0.018500         NaN           NaN\n"
     ]
    }
   ],
   "source": [
    "df_levene = []\n",
    "\n",
    "for name, temp in df.groupby(['Diet', 'Exercise']):\n",
    "    st, p = stats.shapiro(temp['WeightLoss'])\n",
    "    if p < 0.05:\n",
    "        print('정규성 만족X')\n",
    "\n",
    "    df_levene.append(temp['WeightLoss'])\n",
    "\n",
    "st, p = stats.levene(*df_levene)\n",
    "if p < 0.05:\n",
    "    print('등분산성 만족X')\n",
    "\n",
    "model = ols('WeightLoss ~ C(Diet) * C(Exercise)', data=df).fit()\n",
    "print(sm.stats.anova_lm(model))"
   ]
  },
  {
   "cell_type": "code",
   "execution_count": 158,
   "id": "3901f1b2-52ba-4da3-a71d-8c2b73dbc47f",
   "metadata": {},
   "outputs": [
    {
     "name": "stdout",
     "output_type": "stream",
     "text": [
      "     Multiple Comparison of Means - Tukey HSD, FWER=0.05      \n",
      "==============================================================\n",
      "   group1      group2   meandiff p-adj   lower   upper  reject\n",
      "--------------------------------------------------------------\n",
      "   Balanced HighProtein     0.83 0.0001  0.4089  1.2511   True\n",
      "   Balanced     LowCarb      0.4  0.065 -0.0211  0.8211  False\n",
      "HighProtein     LowCarb    -0.43 0.0446 -0.8511 -0.0089   True\n",
      "--------------------------------------------------------------\n"
     ]
    }
   ],
   "source": [
    "report = pairwise_tukeyhsd(endog=df['WeightLoss'], groups=df['Diet'], alpha = 0.05)\n",
    "print(report)"
   ]
  },
  {
   "cell_type": "code",
   "execution_count": null,
   "id": "c93f06a7-19c5-47e5-9a3a-1702b6840614",
   "metadata": {},
   "outputs": [],
   "source": []
  },
  {
   "cell_type": "code",
   "execution_count": null,
   "id": "0638c8d3-fbe7-406a-ada7-654555890641",
   "metadata": {},
   "outputs": [],
   "source": []
  }
 ],
 "metadata": {
  "kernelspec": {
   "display_name": "Python [conda env:base] *",
   "language": "python",
   "name": "conda-base-py"
  },
  "language_info": {
   "codemirror_mode": {
    "name": "ipython",
    "version": 3
   },
   "file_extension": ".py",
   "mimetype": "text/x-python",
   "name": "python",
   "nbconvert_exporter": "python",
   "pygments_lexer": "ipython3",
   "version": "3.12.7"
  }
 },
 "nbformat": 4,
 "nbformat_minor": 5
}
