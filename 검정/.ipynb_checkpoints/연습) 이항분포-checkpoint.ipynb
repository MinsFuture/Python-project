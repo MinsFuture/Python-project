{
 "cells": [
  {
   "cell_type": "markdown",
   "id": "084bcc67-f389-43eb-9bd1-cb1eac4fc3fd",
   "metadata": {},
   "source": [
    "# 이항분포\n",
    "이항분포(Binomial Distribution)는 ```고정된 횟수의 독립적인 시도(trial)```에서 각 시도마다 동일한 성공 확률 𝑝 를 가질 때, 성공 횟수를 나타내는 이산 확률분포입니다. 예를 들어, 동전을 10번 던졌을 때 앞면이 나오는 횟수를 모델링하는 데 이항분포를 사용할 수 있습니다."
   ]
  },
  {
   "cell_type": "code",
   "execution_count": 6,
   "id": "56f0be59-118a-417b-bcdc-a7d9c18302f0",
   "metadata": {},
   "outputs": [],
   "source": [
    "import numpy as np\n",
    "import matplotlib.pyplot as plt\n",
    "from scipy.stats import binom\n",
    "import koreanize_matplotlib"
   ]
  },
  {
   "cell_type": "markdown",
   "id": "f285808f-5887-41c7-a3cf-19e28650ead9",
   "metadata": {},
   "source": [
    "## 연습문제\n",
    "1. 동전을 20번 던졌을 때, 앞면이 정확히 12번 나올 확률을 구하시오."
   ]
  },
  {
   "cell_type": "code",
   "execution_count": null,
   "id": "40d2033a-be87-45bd-a167-1972f9b12b24",
   "metadata": {},
   "outputs": [],
   "source": []
  },
  {
   "cell_type": "markdown",
   "id": "935e1df5-f733-446f-b48c-13132a5d876f",
   "metadata": {},
   "source": [
    "2. 한 공장에서 생산되는 제품의 결함률이 0.02일 때, 100개의 제품을 검사하여 결함이 5개 이상일 확률을 구하시오."
   ]
  },
  {
   "cell_type": "code",
   "execution_count": null,
   "id": "f928cfd7-fcc8-4a6b-9ff8-52d79b5fc5cc",
   "metadata": {},
   "outputs": [],
   "source": []
  },
  {
   "cell_type": "markdown",
   "id": "885d8902-996a-46c1-a8db-d791d593479c",
   "metadata": {},
   "source": [
    "3. 객관식 시험에서 각 문제는 4지선다형으로, 무작위로 답을 선택하면 정답을 맞출 확률은 0.25이다. 10문제 중 정확히 3문제만 맞출 확률을 구하시오."
   ]
  },
  {
   "cell_type": "code",
   "execution_count": null,
   "id": "cf39e2af-9737-422f-bf07-4fb0d9b01869",
   "metadata": {},
   "outputs": [],
   "source": []
  },
  {
   "cell_type": "markdown",
   "id": "878f2451-8e64-43ba-b37d-56f04fce6c90",
   "metadata": {},
   "source": [
    "4. 신약의 효과가 있을 확률이 0.7일 때, 15명의 환자 중 효과를 보이는 환자가 10명 이상일 확률을 구하시오."
   ]
  },
  {
   "cell_type": "code",
   "execution_count": null,
   "id": "4c25d120-a016-4cc2-a438-483c8c583844",
   "metadata": {},
   "outputs": [],
   "source": []
  },
  {
   "cell_type": "markdown",
   "id": "eda47826-d70c-44d5-a6d2-048cd9feafc3",
   "metadata": {},
   "source": [
    "5. 어떤 선거에서 유권자의 60%가 후보 A에게 투표한다고 가정할 때, 50명의 유권자를 무작위로 샘플링하여 35명 이상이 후보 A에게 투표할 확률을 구하시오."
   ]
  },
  {
   "cell_type": "code",
   "execution_count": null,
   "id": "4cae7ad6-e354-41d3-b5e6-0ef943e6da25",
   "metadata": {},
   "outputs": [],
   "source": []
  }
 ],
 "metadata": {
  "kernelspec": {
   "display_name": "Python 3 (ipykernel)",
   "language": "python",
   "name": "python3"
  },
  "language_info": {
   "codemirror_mode": {
    "name": "ipython",
    "version": 3
   },
   "file_extension": ".py",
   "mimetype": "text/x-python",
   "name": "python",
   "nbconvert_exporter": "python",
   "pygments_lexer": "ipython3",
   "version": "3.12.7"
  }
 },
 "nbformat": 4,
 "nbformat_minor": 5
}
