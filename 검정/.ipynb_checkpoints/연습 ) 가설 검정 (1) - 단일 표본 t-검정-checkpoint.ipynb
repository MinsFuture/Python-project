{
 "cells": [
  {
   "cell_type": "markdown",
   "id": "eb23a7e9-596f-42d7-8e12-393da612b558",
   "metadata": {},
   "source": [
    "# 정규분포\n",
    "정규분포(Normal Distribution)는 통계학과 확률론에서 가장 중요한 연속 확률분포 중 하나로, 많은 자연현상과 사회현상의 데이터들이 이 분포를 따르는 경우가 많습니다.\n",
    "\n",
    "* 대칭성: 정규분포는 평균 μ를 중심으로 좌우 대칭입니다. 즉, 평균, 중앙값(median), 최빈값(mode)이 모두 동일합니다.\n",
    "* 종 모양의 곡선 (Bell Curve): 곡선의 중앙이 가장 높고 양쪽으로 갈수록 점점 낮아지는 종 모양을 띕니다. 이로 인해 극단적인 값(양쪽 꼬리 부분)의 확률은 매우 작습니다.\n",
    "* 중심극한정리 (Central Limit Theorem): 많은 독립적인 확률 변수들의 합(또는 평균)은 분포의 형태에 상관없이 정규분포에 가까워진다는 중요한 이론입니다. 이는 왜 다양한 실제 데이터들이 정규분포를 따르는지에 대한 근본적인 이유를 제공합니다."
   ]
  },
  {
   "cell_type": "code",
   "execution_count": 1,
   "id": "851cff16-a51f-44cd-b354-d1b43e85fb8c",
   "metadata": {},
   "outputs": [],
   "source": [
    "import numpy as np\n",
    "import matplotlib.pyplot as plt\n",
    "import scipy.stats as stats\n",
    "import koreanize_matplotlib"
   ]
  },
  {
   "cell_type": "markdown",
   "id": "7d29c9a1-76e5-4637-bb9c-6680fa3a6358",
   "metadata": {},
   "source": [
    "# 단일 표본 t-검정\n",
    "단일 표본 검정(One-Sample Test)은 하나의 표본 데이터로부터 계산된 통계량(예: 표본 평균)이 특정한 이론적 모수(예: 모평균)와 차이가 있는지를 검정하는 통계적 방법입니다. 가장 많이 사용되는 방법은 ```단일 표본 t-검정(One-sample t-test)``` 인데, 이는 표본의 분산을 이용하여 표본 평균과 가정한 모평균의 차이가 우연에 의한 것인지 아니면 통계적으로 유의미한지를 판단합니다.\n",
    "\n",
    "* 정규성 가정: 표본의 크기가 작을 경우, 모집단이 정규분포를 따른다는 가정이 필요합니다. 큰 표본(n≥30)인 경우 중심극한정리에 의해 정규분포에 근사합니다.\n",
    "* 독립성: 표본 데이터는 서로 독립적이어야 합니다."
   ]
  },
  {
   "cell_type": "code",
   "execution_count": 15,
   "id": "ea10c1eb-4181-48fd-a1f2-54161eeb7cf6",
   "metadata": {},
   "outputs": [],
   "source": [
    "import pandas as pd\n",
    "\n",
    "# 팝콘 라지 사이즈의 무게가 일반적으로 120g 이다.\n",
    "df = pd.DataFrame({\n",
    "    'weights':[122, 121, 120, 119, 125, 115, 121, 118, 117, 127,\n",
    "           123, 129, 119, 124, 114, 126, 122, 124, 121, 116,\n",
    "           120, 123, 127, 118, 122, 117, 124, 125, 123, 121],\n",
    "})"
   ]
  },
  {
   "cell_type": "markdown",
   "id": "05def03f-d6f0-407d-ab38-4e68d1e5f7bc",
   "metadata": {},
   "source": [
    "* 만약 정규성을 따르지 않는다면?"
   ]
  },
  {
   "cell_type": "markdown",
   "id": "205aef82-d59d-4f9c-947e-c277cdb5184e",
   "metadata": {},
   "source": [
    "## 연습문제\n",
    "영화관에서 판매하는 팝콘 라지 사이즈의 무게는 다음과 같다. 팝콘 라지 사이즈의 평균 무게가 120g 보다 작다고 할 수 있는가? (유의수준 0.05)"
   ]
  },
  {
   "cell_type": "code",
   "execution_count": 25,
   "id": "54933169-1eaf-4627-97a8-377a56cc6fe9",
   "metadata": {},
   "outputs": [],
   "source": [
    "df = pd.DataFrame({\n",
    "    'weights':[125, 126, 118, 124, 117, 127, 123, 122, 119, 142]\n",
    "})"
   ]
  }
 ],
 "metadata": {
  "kernelspec": {
   "display_name": "Python 3 (ipykernel)",
   "language": "python",
   "name": "python3"
  },
  "language_info": {
   "codemirror_mode": {
    "name": "ipython",
    "version": 3
   },
   "file_extension": ".py",
   "mimetype": "text/x-python",
   "name": "python",
   "nbconvert_exporter": "python",
   "pygments_lexer": "ipython3",
   "version": "3.12.7"
  }
 },
 "nbformat": 4,
 "nbformat_minor": 5
}
