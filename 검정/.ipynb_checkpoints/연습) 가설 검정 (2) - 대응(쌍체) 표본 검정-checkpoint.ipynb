{
 "cells": [
  {
   "cell_type": "markdown",
   "id": "54cdb057-931b-4fc8-a41f-d882cba1fa92",
   "metadata": {},
   "source": [
    "# 대응(쌍체) 표본 검정\n",
    "대응(쌍체)표본 검정은 같은 대상이나 관련된 두 집단에서 측정한 데이터를 비교할 때 사용되는 통계적 검정 방법입니다. 주로 “전후 변화”나 “처리 전/처리 후”와 같이 서로 관련 있는 두 조건 간의 평균 차이가 통계적으로 유의한지를 판단할 때 쓰입니다.\n",
    "\n",
    "* 차이값의 정규성: 각 쌍의 차이가 정규분포를 따른다는 가정이 필요합니다. (표본의 크기가 충분히 크면 중심극한정리에 의해 이 가정이 완화될 수 있습니다.)\n",
    "* 독립성: 각 쌍은 다른 쌍들과 독립적이어야 합니다.\n",
    "* 데이터의 정확한 짝짓기: 각 쌍의 데이터가 올바르게 짝지어졌는지 확인해야 합니다. 잘못 짝지어진 데이터는 분석 결과에 영향을 줄 수 있습니다."
   ]
  },
  {
   "cell_type": "code",
   "execution_count": 2,
   "id": "74d95f14-cbab-4337-87ac-f48369e5f705",
   "metadata": {},
   "outputs": [],
   "source": [
    "# 어떤 기업이 새로운 교육 프로그램을 도입해 직원의 성과를 개선하려고 한다.\n",
    "\n",
    "import pandas as pd\n",
    "\n",
    "# 귀무가설: 직원 교육 전후가 차이가 없다.\n",
    "# 대립가설: 직원 교육 전후가 차이가 있다.\n",
    "\n",
    "df = pd.DataFrame({\n",
    "    'before':[85, 90, 92, 88, 86, 89, 83, 87],\n",
    "    'after':[85.5,89.9,92.6,89.5,85.8,88.8,84.6,87.8]\n",
    "})"
   ]
  },
  {
   "cell_type": "markdown",
   "id": "789909c3-a26d-4d1f-8c37-cdf2f9d56d9d",
   "metadata": {},
   "source": [
    "* 만약 정규성을 따르지 않았다면?"
   ]
  },
  {
   "cell_type": "markdown",
   "id": "fb1514be-9c19-489b-8219-118cf3baeedf",
   "metadata": {},
   "source": [
    "## 1. 연습문제\n",
    "어떤 기업이 새로운 교육 프로그램을 도입해 직원의 성과를 개선하려고 한다. 동일한 직원 그룹에 대해 교육 전과 후의 성과를 비교했다. 새로윤 교육 프로그램은 효과가 있는지 가설검정하시오. (유의수준 0.05)"
   ]
  },
  {
   "cell_type": "code",
   "execution_count": 12,
   "id": "6208e161-3341-43d6-aaa5-3dddf56af9cd",
   "metadata": {},
   "outputs": [],
   "source": [
    "df = pd.DataFrame({\n",
    "    'before':[85, 90, 92, 88, 86, 89, 83, 87],\n",
    "    'after':[86, 92, 94, 89, 84, 90, 84, 88]\n",
    "})"
   ]
  },
  {
   "cell_type": "markdown",
   "id": "b2793c03-46ed-4df6-ba4c-628b48aa12da",
   "metadata": {},
   "source": [
    "## 2. 연습문제\n",
    "한 학교에서 새로운 교육 프로그램의 효과를 평가하기 위해 15명의 학생을 대상으로 교육 전과 교육 후 시험 점수를 측정하였습니다. 교육 프로그램이 학생들의 성적에 긍정적인 영향을 주었는지 알아보기 위해, 두 시점(교육 전과 교육 후)의 시험 점수에 차이가 있는지를 대응(쌍체) 표본 t-검정을 이용하여 분석하고자 합니다. (유의수준 0.05)"
   ]
  },
  {
   "cell_type": "code",
   "execution_count": 21,
   "id": "acfbc565-42bf-4208-b96b-9ba1d854e34a",
   "metadata": {},
   "outputs": [],
   "source": [
    "before = [70, 68, 75, 80, 65, 72, 78, 74, 69, 77, 71, 73, 76, 79, 68]\n",
    "after = [72, 70, 78, 82, 67, 75, 80, 77, 71, 79, 74, 76, 79, 81, 70]"
   ]
  }
 ],
 "metadata": {
  "kernelspec": {
   "display_name": "Python 3 (ipykernel)",
   "language": "python",
   "name": "python3"
  },
  "language_info": {
   "codemirror_mode": {
    "name": "ipython",
    "version": 3
   },
   "file_extension": ".py",
   "mimetype": "text/x-python",
   "name": "python",
   "nbconvert_exporter": "python",
   "pygments_lexer": "ipython3",
   "version": "3.12.7"
  }
 },
 "nbformat": 4,
 "nbformat_minor": 5
}
