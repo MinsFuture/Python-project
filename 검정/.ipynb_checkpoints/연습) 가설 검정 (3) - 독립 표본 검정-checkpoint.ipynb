{
 "cells": [
  {
   "cell_type": "markdown",
   "id": "74ab2871-f362-4ec0-b835-4b9d013eef54",
   "metadata": {},
   "source": [
    "# 독립 표본 검정\n",
    "독립 표본 검정은 서로 독립적인 두 집단(예: 남성과 여성, 두 지역의 주민 등)의 평균이나 비율이 통계적으로 유의미하게 다른지를 판단하기 위한 방법입니다. 주로 독립표본 t-검정이 사용되며, 두 집단의 평균을 비교할 때, 각 집단의 데이터가 정규분포를 따르고 분산이 동일하다는 가정을 전제로 합니다. 만약 분산이 다르다면 Welch의 t-검정(Welch's t-test)을 사용하게 됩니다.\n",
    "\n",
    "* 정규성 검정: 각 집단의 데이터가 정규분포를 따르는지 확인합니다. 대표적으로 Shapiro-Wilk 검정을 사용합니다.\n",
    "* 분산의 동질성 검정: 두 집단의 분산이 동일한지 확인합니다. Levene 검정이나 Bartlett 검정을 사용할 수 있습니다."
   ]
  },
  {
   "cell_type": "code",
   "execution_count": 9,
   "id": "f1ec05a9-2eaf-42a3-8a3c-f7726af1a0bc",
   "metadata": {},
   "outputs": [],
   "source": [
    "# 귀무가설: 반별 수학 평균 점수는 같다.\n",
    "# 대립가설: 반별 수학 평균 점수는 다르다.\n",
    "\n",
    "class1 = [85, 90, 92, 88, 86, 89, 83, 87]\n",
    "class2 = [80, 82, 88, 85, 84]"
   ]
  },
  {
   "cell_type": "markdown",
   "id": "1cdaf101-3eb3-4fd5-a08a-f381e8b4b18e",
   "metadata": {},
   "source": [
    "* 만약 정규성을 하나라도 따르지 않았다면?"
   ]
  },
  {
   "cell_type": "code",
   "execution_count": null,
   "id": "fe9335ab-d6ee-4f2e-a822-036d592b09f8",
   "metadata": {},
   "outputs": [],
   "source": []
  },
  {
   "cell_type": "markdown",
   "id": "11ee52f8-833d-4e14-b43d-9f6cfc967c3b",
   "metadata": {},
   "source": [
    "## 연습문제\n",
    "1. 1반과 2반의 평균 점수 차이가 있는지 유의 수준 0.05 하에서 가설 검정하시오.\n",
    "\n",
    "* 귀무가설: 반별 수학 평균 점수는 같다.\n",
    "* 대립가설: 2반 수학 평균 점수가 더 높다."
   ]
  },
  {
   "cell_type": "code",
   "execution_count": 38,
   "id": "91b960ce-5485-4ca6-9dfd-cd949b9441e9",
   "metadata": {},
   "outputs": [],
   "source": [
    "class1 = [85, 90, 92, 88, 86, 89, 83, 87]\n",
    "class2 = [80, 82, 88, 85, 84]"
   ]
  },
  {
   "cell_type": "markdown",
   "id": "8eb86cae-d23a-4001-838b-eda5ddc9d379",
   "metadata": {},
   "source": [
    "2. 1반과 2반의 평균 점수 차이가 있는지 유의 수준 0.05 하에서 가설 검정하시오.\n",
    "* 귀무가설: 반별 수학 평균 점수는 같다.\n",
    "* 대립가설: 2반 수학 평균 점수가 더 높다."
   ]
  },
  {
   "cell_type": "code",
   "execution_count": 41,
   "id": "96d79da4-94e6-4246-a4c6-d928db82a5a5",
   "metadata": {},
   "outputs": [],
   "source": [
    "class1 = [85, 90, 92, 88, 86, 89, 83, 87]\n",
    "class2 = [80, 82, 88, 85, 130]"
   ]
  },
  {
   "cell_type": "markdown",
   "id": "4506a87b-de86-43ca-a5bd-b363b352eb16",
   "metadata": {},
   "source": [
    "3. 한 연구자가 특정 튜터링 프로그램이 학생들의 시험 성적에 미치는 영향을 조사하고자 하였습니다. 이를 위해 두 개의 독립 집단을 선정하였습니다. 두 그룹의 평균 시험 점수에 차이가 있는지 검정하시오. (유의수준 0.05)\n",
    "\n",
    "* 그룹 A: 튜터링 프로그램에 참여한 학생들의 시험 점수\n",
    "* 그룹 B: 튜터링 프로그램에 참여하지 않은 학생들의 시험 점수"
   ]
  },
  {
   "cell_type": "code",
   "execution_count": 1,
   "id": "6bebdea2-32f6-4290-93e5-f1e077e9d7cd",
   "metadata": {},
   "outputs": [],
   "source": [
    "A = [78, 85, 82, 88, 75, 80, 79, 83, 81, 87]\n",
    "B = [70, 72, 68, 74, 69, 71, 73, 70, 68, 72]"
   ]
  }
 ],
 "metadata": {
  "kernelspec": {
   "display_name": "Python 3 (ipykernel)",
   "language": "python",
   "name": "python3"
  },
  "language_info": {
   "codemirror_mode": {
    "name": "ipython",
    "version": 3
   },
   "file_extension": ".py",
   "mimetype": "text/x-python",
   "name": "python",
   "nbconvert_exporter": "python",
   "pygments_lexer": "ipython3",
   "version": "3.12.7"
  }
 },
 "nbformat": 4,
 "nbformat_minor": 5
}
