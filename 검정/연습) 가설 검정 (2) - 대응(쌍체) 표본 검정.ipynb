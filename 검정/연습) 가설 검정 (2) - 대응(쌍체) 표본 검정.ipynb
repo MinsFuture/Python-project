{
 "cells": [
  {
   "cell_type": "markdown",
   "id": "54cdb057-931b-4fc8-a41f-d882cba1fa92",
   "metadata": {},
   "source": [
    "# 대응(쌍체) 표본 검정\n",
    "대응(쌍체)표본 검정은 같은 대상이나 관련된 두 집단에서 측정한 데이터를 비교할 때 사용되는 통계적 검정 방법입니다. 주로 “전후 변화”나 “처리 전/처리 후”와 같이 서로 관련 있는 두 조건 간의 평균 차이가 통계적으로 유의한지를 판단할 때 쓰입니다.\n",
    "\n",
    "* 차이값의 정규성: 각 쌍의 차이가 정규분포를 따른다는 가정이 필요합니다. (표본의 크기가 충분히 크면 중심극한정리에 의해 이 가정이 완화될 수 있습니다.)\n",
    "* 독립성: 각 쌍은 다른 쌍들과 독립적이어야 합니다.\n",
    "* 데이터의 정확한 짝짓기: 각 쌍의 데이터가 올바르게 짝지어졌는지 확인해야 합니다. 잘못 짝지어진 데이터는 분석 결과에 영향을 줄 수 있습니다."
   ]
  },
  {
   "cell_type": "code",
   "execution_count": 1,
   "id": "74d95f14-cbab-4337-87ac-f48369e5f705",
   "metadata": {},
   "outputs": [
    {
     "data": {
      "text/plain": [
       "TtestResult(statistic=2.2127749675452324, pvalue=0.03127028733756239, df=7)"
      ]
     },
     "execution_count": 1,
     "metadata": {},
     "output_type": "execute_result"
    }
   ],
   "source": [
    "# 어떤 기업이 새로운 교육 프로그램을 도입해 직원의 성과를 개선하려고 한다.\n",
    "\n",
    "import pandas as pd\n",
    "import numpy as np\n",
    "import matplotlib.pyplot as plt\n",
    "import scipy.stats as stats\n",
    "import koreanize_matplotlib\n",
    "\n",
    "# 귀무가설: 직원 교육 전후가 차이가 없다.\n",
    "# 대립가설: 직원 교육 전후가 차이가 있다. (전보다 더 좋다)\n",
    "\n",
    "df = pd.DataFrame({\n",
    "    'before':[85, 90, 92, 88, 86, 89, 83, 87],\n",
    "    'after':[85.5,89.9,92.6,89.5,85.8,88.8,84.6,87.8]\n",
    "})\n",
    "\n",
    "df['diff'] = df['after'] - df['before']\n",
    "values, p = stats.shapiro(df['diff']) # 정규성 O. p_value가 0.05 보다 크기떄문\n",
    "values, p\n",
    "\n",
    "stats.ttest_rel(df['after'], df['before'], alternative='greater') # after가 before보다 더 크다\n",
    "\n",
    "# p-value가 0.05보다 작으니 대립가설을 채택"
   ]
  },
  {
   "cell_type": "markdown",
   "id": "789909c3-a26d-4d1f-8c37-cdf2f9d56d9d",
   "metadata": {},
   "source": [
    "* 만약 정규성을 따르지 않았다면?"
   ]
  },
  {
   "cell_type": "code",
   "execution_count": 3,
   "id": "ea599968-4e62-4a3e-bfcf-d3c4f6667069",
   "metadata": {},
   "outputs": [
    {
     "data": {
      "text/plain": [
       "WilcoxonResult(statistic=30.0, pvalue=0.0546875)"
      ]
     },
     "execution_count": 3,
     "metadata": {},
     "output_type": "execute_result"
    }
   ],
   "source": [
    "stats.wilcoxon(df['after'], df['before'], alternative='greater')"
   ]
  },
  {
   "cell_type": "markdown",
   "id": "fb1514be-9c19-489b-8219-118cf3baeedf",
   "metadata": {},
   "source": [
    "## 1. 연습문제\n",
    "어떤 기업이 새로운 교육 프로그램을 도입해 직원의 성과를 개선하려고 한다. 동일한 직원 그룹에 대해 교육 전과 후의 성과를 비교했다. 새로윤 교육 프로그램은 효과가 있는지 가설검정하시오. (유의수준 0.05)"
   ]
  },
  {
   "cell_type": "code",
   "execution_count": 5,
   "id": "6208e161-3341-43d6-aaa5-3dddf56af9cd",
   "metadata": {},
   "outputs": [
    {
     "data": {
      "text/plain": [
       "WilcoxonResult(statistic=29.0, pvalue=0.07421875)"
      ]
     },
     "execution_count": 5,
     "metadata": {},
     "output_type": "execute_result"
    }
   ],
   "source": [
    "df = pd.DataFrame({\n",
    "    'before':[85, 90, 92, 88, 86, 89, 83, 87],\n",
    "    'after':[86, 92, 94, 89, 84, 90, 84, 88]\n",
    "})\n",
    "\n",
    "# 귀무가설 : 새로운 교육 프로그램은 효과가 없다\n",
    "# 대립가설 : 새로운 교육 프로그램은 효과가 있다(전보다 더 좋다)\n",
    "\n",
    "df['diff'] = df['after'] - df['before']\n",
    "values, p = stats.shapiro(df['diff']) # 정규성 X. p_value가 0.05 보다 작기떄문\n",
    "values, p\n",
    "\n",
    "stats.wilcoxon(df['after'], df['before'], alternative='greater')\n",
    "\n",
    "# p-value가 0.05보다 크므로 귀무가설을 채택"
   ]
  },
  {
   "cell_type": "markdown",
   "id": "b2793c03-46ed-4df6-ba4c-628b48aa12da",
   "metadata": {},
   "source": [
    "## 2. 연습문제\n",
    "한 학교에서 새로운 교육 프로그램의 효과를 평가하기 위해 15명의 학생을 대상으로 교육 전과 교육 후 시험 점수를 측정하였습니다. 교육 프로그램이 학생들의 성적에 긍정적인 영향을 주었는지 알아보기 위해, 두 시점(교육 전과 교육 후)의 시험 점수에 차이가 있는지를 대응(쌍체) 표본 t-검정을 이용하여 분석하고자 합니다. (유의수준 0.05)"
   ]
  },
  {
   "cell_type": "code",
   "execution_count": 7,
   "id": "acfbc565-42bf-4208-b96b-9ba1d854e34a",
   "metadata": {},
   "outputs": [
    {
     "data": {
      "text/plain": [
       "WilcoxonResult(statistic=120.0, pvalue=3.0517578125e-05)"
      ]
     },
     "execution_count": 7,
     "metadata": {},
     "output_type": "execute_result"
    }
   ],
   "source": [
    "before = [70, 68, 75, 80, 65, 72, 78, 74, 69, 77, 71, 73, 76, 79, 68]\n",
    "after = [72, 70, 78, 82, 67, 75, 80, 77, 71, 79, 74, 76, 79, 81, 70]\n",
    "\n",
    "df = pd.DataFrame({\n",
    "    'before' : before,\n",
    "    'after' : after\n",
    "})\n",
    "\n",
    "df['diff'] = df['after'] - df['before']\n",
    "values, p = stats.shapiro(df['diff']) # 정규성 X. p_value가 0.05 보다 작기떄문\n",
    "values, p\n",
    "\n",
    "# 귀무가설 : 교육 전과 교육 후 시험점수의 차이가 없다\n",
    "# 대립가설 : 교육 전과 교육 후 시험점수의 차이가 있다(큰 쪽으로)\n",
    "stats.wilcoxon(df['after'], df['before'], alternative='greater')\n",
    "\n",
    "# p-value가 0.05보다 작으므로, 대립가설을 채택한다"
   ]
  },
  {
   "cell_type": "code",
   "execution_count": 9,
   "id": "5e5ae7db-c532-4ddf-aaf4-1b99e3aabaf7",
   "metadata": {},
   "outputs": [
    {
     "data": {
      "text/plain": [
       "TtestResult(statistic=18.330302779823356, pvalue=1.7468556145095e-11, df=14)"
      ]
     },
     "execution_count": 9,
     "metadata": {},
     "output_type": "execute_result"
    }
   ],
   "source": [
    "stats.ttest_1samp(df['diff'], 0, alternative='greater')"
   ]
  },
  {
   "cell_type": "code",
   "execution_count": 18,
   "id": "4c56a4f7-b2e8-467a-867c-d896311d81a3",
   "metadata": {},
   "outputs": [
    {
     "data": {
      "text/plain": [
       "WilcoxonResult(statistic=120.0, pvalue=3.0517578125e-05)"
      ]
     },
     "execution_count": 18,
     "metadata": {},
     "output_type": "execute_result"
    }
   ],
   "source": [
    "before = [70, 68, 75, 80, 65, 72, 78, 74, 69, 77, 71, 73, 76, 79, 68]\n",
    "after = [72, 70, 78, 82, 67, 75, 80, 77, 71, 79, 74, 76, 79, 81, 70]\n",
    "\n",
    "df = pd.DataFrame({\n",
    "    'before' : before,\n",
    "    'after' : after\n",
    "})\n",
    "\n",
    "df['diff'] = df['after'] - df['before']\n",
    "values, p = stats.shapiro(df['diff'])\n",
    "values, p\n",
    "\n",
    "# 귀무가설 : 차이가 없다\n",
    "# 대립가설 : 차이가 있다 (큰 쪽으로)\n",
    "stats.wilcoxon(df['diff'], alternative='greater')"
   ]
  },
  {
   "cell_type": "code",
   "execution_count": 20,
   "id": "0102fb1d-b956-44b5-a314-d5f02bc03c85",
   "metadata": {},
   "outputs": [
    {
     "data": {
      "text/plain": [
       "TtestResult(statistic=18.330302779823356, pvalue=1.7468556145095e-11, df=14)"
      ]
     },
     "execution_count": 20,
     "metadata": {},
     "output_type": "execute_result"
    }
   ],
   "source": [
    "stats.ttest_rel(df['after'], df['before'], alternative='greater')"
   ]
  },
  {
   "cell_type": "code",
   "execution_count": null,
   "id": "6a7da190-ca12-4794-8327-eac86b93969c",
   "metadata": {},
   "outputs": [],
   "source": []
  }
 ],
 "metadata": {
  "kernelspec": {
   "display_name": "Python [conda env:base] *",
   "language": "python",
   "name": "conda-base-py"
  },
  "language_info": {
   "codemirror_mode": {
    "name": "ipython",
    "version": 3
   },
   "file_extension": ".py",
   "mimetype": "text/x-python",
   "name": "python",
   "nbconvert_exporter": "python",
   "pygments_lexer": "ipython3",
   "version": "3.12.7"
  }
 },
 "nbformat": 4,
 "nbformat_minor": 5
}
