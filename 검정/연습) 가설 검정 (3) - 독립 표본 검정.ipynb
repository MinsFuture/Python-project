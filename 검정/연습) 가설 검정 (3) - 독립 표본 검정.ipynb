{
 "cells": [
  {
   "cell_type": "markdown",
   "id": "74ab2871-f362-4ec0-b835-4b9d013eef54",
   "metadata": {},
   "source": [
    "# 독립 표본 검정\n",
    "독립 표본 검정은 서로 독립적인 두 집단(예: 남성과 여성, 두 지역의 주민 등)의 평균이나 비율이 통계적으로 유의미하게 다른지를 판단하기 위한 방법입니다. 주로 독립표본 t-검정이 사용되며, 두 집단의 평균을 비교할 때, 각 집단의 데이터가 정규분포를 따르고 분산이 동일하다는 가정을 전제로 합니다. 만약 분산이 다르다면 Welch의 t-검정(Welch's t-test)을 사용하게 됩니다.\n",
    "\n",
    "* 정규성 검정: 각 집단의 데이터가 정규분포를 따르는지 확인합니다. 대표적으로 Shapiro-Wilk 검정을 사용합니다.\n",
    "* 분산의 동질성 검정: 두 집단의 분산이 동일한지 확인합니다. Levene 검정이나 Bartlett 검정을 사용할 수 있습니다."
   ]
  },
  {
   "cell_type": "code",
   "execution_count": 7,
   "id": "f1ec05a9-2eaf-42a3-8a3c-f7726af1a0bc",
   "metadata": {},
   "outputs": [],
   "source": [
    "# 귀무가설: 반별 수학 평균 점수는 같다. \n",
    "# 대립가설: 반별 수학 평균 점수는 다르다.\n",
    "\n",
    "class1 = [85, 90, 92, 88, 86, 89, 83, 87]\n",
    "class2 = [80, 82, 88, 85, 84]"
   ]
  },
  {
   "cell_type": "code",
   "execution_count": 9,
   "id": "fd67c694-d50b-40ed-8ece-785a8b7c797b",
   "metadata": {},
   "outputs": [
    {
     "data": {
      "image/png": "[encoded data removed]",
      "text/plain": [
       "<Figure size 640x480 with 1 Axes>"
      ]
     },
     "metadata": {},
     "output_type": "display_data"
    }
   ],
   "source": [
    "import pandas as pd\n",
    "import matplotlib.pyplot as plt\n",
    "import scipy.stats as stats\n",
    "import koreanize_matplotlib\n",
    "\n",
    "plt.hist(class1, alpha = 0.5, bins = 'auto', edgecolor = 'black')\n",
    "plt.hist(class2, alpha = 0.5, bins = 'auto', edgecolor = 'black')\n",
    "plt.legend(['class1', 'class2'])\n",
    "plt.show()"
   ]
  },
  {
   "cell_type": "code",
   "execution_count": 10,
   "id": "81cbf89e-8572-4f2c-bc92-84848d0d18ed",
   "metadata": {},
   "outputs": [
    {
     "name": "stdout",
     "output_type": "stream",
     "text": [
      "ShapiroResult(statistic=0.9981893537736595, pvalue=0.999986994137081)\n",
      "ShapiroResult(statistic=0.9917398436295006, pvalue=0.9854182266624975)\n"
     ]
    }
   ],
   "source": [
    "# 정규분포를 따르는지 검정\n",
    "print(stats.shapiro(class1))\n",
    "print(stats.shapiro(class2))"
   ]
  },
  {
   "cell_type": "code",
   "execution_count": 11,
   "id": "2dcb08dd-a698-4d80-9258-3392c90c21c5",
   "metadata": {},
   "outputs": [
    {
     "data": {
      "text/plain": [
       "LeveneResult(statistic=0.0027925869510027727, pvalue=0.958802951766629)"
      ]
     },
     "execution_count": 11,
     "metadata": {},
     "output_type": "execute_result"
    }
   ],
   "source": [
    "# 분산이 동일한지 검정\n",
    "stats.levene(class1, class2)"
   ]
  },
  {
   "cell_type": "code",
   "execution_count": 12,
   "id": "79c24fd2-67b7-4bc3-abb8-94264b2afb16",
   "metadata": {},
   "outputs": [
    {
     "data": {
      "text/plain": [
       "TtestResult(statistic=2.2108140580092237, pvalue=0.04914857789252186, df=11.0)"
      ]
     },
     "execution_count": 12,
     "metadata": {},
     "output_type": "execute_result"
    }
   ],
   "source": [
    "# equal_var=True // 독립표본검정을 하겠다\n",
    "# equal_var=False // 분산이 동일하지 않으면 welch t-검정\n",
    "stats.ttest_ind(class1, class2, equal_var=True)\n",
    "\n",
    "# p-value가 0.05보다 낮으니 대립가설 채택"
   ]
  },
  {
   "cell_type": "code",
   "execution_count": 13,
   "id": "3203cfc2-be26-4453-937b-a2cf7c064d64",
   "metadata": {},
   "outputs": [
    {
     "data": {
      "text/plain": [
       "TtestResult(statistic=2.2108140580092237, pvalue=0.02457428894626093, df=11.0)"
      ]
     },
     "execution_count": 13,
     "metadata": {},
     "output_type": "execute_result"
    }
   ],
   "source": [
    "# 귀무가설: 반별 수학 평균 점수는 같다.\n",
    "# 대립가설: 1반이 2반보다 수학 평균 점수가 더 높다\n",
    "\n",
    "stats.ttest_ind(class1, class2, equal_var=True, alternative='greater')\n",
    "\n",
    "# p-value가 0.05보다 낮으니 대립가설 채택"
   ]
  },
  {
   "cell_type": "markdown",
   "id": "1cdaf101-3eb3-4fd5-a08a-f381e8b4b18e",
   "metadata": {},
   "source": [
    "* 만약 정규성을 하나라도 따르지 않았다면?"
   ]
  },
  {
   "cell_type": "code",
   "execution_count": 15,
   "id": "fe9335ab-d6ee-4f2e-a822-036d592b09f8",
   "metadata": {},
   "outputs": [
    {
     "data": {
      "text/plain": [
       "MannwhitneyuResult(statistic=33.0, pvalue=0.06652637566016166)"
      ]
     },
     "execution_count": 15,
     "metadata": {},
     "output_type": "execute_result"
    }
   ],
   "source": [
    "# 맨 휘트니 U 검정 : 데이터 순위를 비교해서 두 집단의 중앙값 차이\n",
    "stats.mannwhitneyu(class1, class2)\n",
    "\n",
    "# p-value가 0.05보다 크니 두 집단의 중앙값 차이가 없다"
   ]
  },
  {
   "cell_type": "markdown",
   "id": "11ee52f8-833d-4e14-b43d-9f6cfc967c3b",
   "metadata": {},
   "source": [
    "## 연습문제\n",
    "1. 1반과 2반의 평균 점수 차이가 있는지 유의 수준 0.05 하에서 가설 검정하시오.\n",
    "\n",
    "* 귀무가설: 반별 수학 평균 점수는 같다.\n",
    "* 대립가설: 2반 수학 평균 점수가 더 높다."
   ]
  },
  {
   "cell_type": "code",
   "execution_count": 17,
   "id": "91b960ce-5485-4ca6-9dfd-cd949b9441e9",
   "metadata": {},
   "outputs": [
    {
     "name": "stdout",
     "output_type": "stream",
     "text": [
      "ShapiroResult(statistic=0.9981893537736595, pvalue=0.999986994137081)\n",
      "ShapiroResult(statistic=0.9917398436295006, pvalue=0.9854182266624975)\n",
      "LeveneResult(statistic=0.0027925869510027727, pvalue=0.958802951766629)\n"
     ]
    },
    {
     "data": {
      "text/plain": [
       "TtestResult(statistic=-2.2108140580092237, pvalue=0.9754257110537391, df=11.0)"
      ]
     },
     "execution_count": 17,
     "metadata": {},
     "output_type": "execute_result"
    }
   ],
   "source": [
    "class1 = [85, 90, 92, 88, 86, 89, 83, 87]\n",
    "class2 = [80, 82, 88, 85, 84]\n",
    "\n",
    "# 1. 정규분포를 만족하는지\n",
    "print(stats.shapiro(class1))\n",
    "print(stats.shapiro(class2))\n",
    "\n",
    "# 2. 분산이 같은지\n",
    "print(stats.levene(class1, class2))\n",
    "\n",
    "# 3. 둘다 같으니 True \n",
    "stats.ttest_ind(class2, class1, equal_var=True, alternative='greater')\n",
    "\n",
    "# p-value가 0.05보다 크니 귀무가설 채택"
   ]
  },
  {
   "cell_type": "markdown",
   "id": "8eb86cae-d23a-4001-838b-eda5ddc9d379",
   "metadata": {},
   "source": [
    "2. 1반과 2반의 평균 점수 차이가 있는지 유의 수준 0.05 하에서 가설 검정하시오.\n",
    "* 귀무가설: 반별 수학 평균 점수는 같다.\n",
    "* 대립가설: 2반 수학 평균 점수가 더 높다."
   ]
  },
  {
   "cell_type": "code",
   "execution_count": 19,
   "id": "96d79da4-94e6-4246-a4c6-d928db82a5a5",
   "metadata": {},
   "outputs": [
    {
     "name": "stdout",
     "output_type": "stream",
     "text": [
      "ShapiroResult(statistic=0.9981893537736595, pvalue=0.999986994137081)\n",
      "ShapiroResult(statistic=0.6880497349322277, pvalue=0.007151570728885509)\n"
     ]
    },
    {
     "data": {
      "text/plain": [
       "MannwhitneyuResult(statistic=26.0, pvalue=0.4194714434612976)"
      ]
     },
     "execution_count": 19,
     "metadata": {},
     "output_type": "execute_result"
    }
   ],
   "source": [
    "class1 = [85, 90, 92, 88, 86, 89, 83, 87]\n",
    "class2 = [80, 82, 88, 85, 130]\n",
    "\n",
    "# 1. 정규분포를 만족하는지\n",
    "print(stats.shapiro(class1))\n",
    "print(stats.shapiro(class2))\n",
    "\n",
    "stats.mannwhitneyu(class1, class2)\n",
    "\n",
    "# p-value가 0.05보다 크니 귀무가설 채택"
   ]
  },
  {
   "cell_type": "markdown",
   "id": "4506a87b-de86-43ca-a5bd-b363b352eb16",
   "metadata": {},
   "source": [
    "3. 한 연구자가 특정 튜터링 프로그램이 학생들의 시험 성적에 미치는 영향을 조사하고자 하였습니다. 이를 위해 두 개의 독립 집단을 선정하였습니다. 두 그룹의 평균 시험 점수에 차이가 있는지 검정하시오. (유의수준 0.05)\n",
    "\n",
    "* 그룹 A: 튜터링 프로그램에 참여한 학생들의 시험 점수\n",
    "* 그룹 B: 튜터링 프로그램에 참여하지 않은 학생들의 시험 점수"
   ]
  },
  {
   "cell_type": "code",
   "execution_count": 21,
   "id": "6bebdea2-32f6-4290-93e5-f1e077e9d7cd",
   "metadata": {},
   "outputs": [
    {
     "name": "stdout",
     "output_type": "stream",
     "text": [
      "ShapiroResult(statistic=0.9808738685761099, pvalue=0.9696722802646456)\n",
      "ShapiroResult(statistic=0.9498823422157764, pvalue=0.6671086821934071)\n",
      "LeveneResult(statistic=3.509532062391682, pvalue=0.07734786417119568)\n"
     ]
    },
    {
     "data": {
      "image/png": "[encoded data removed]",
      "text/plain": [
       "<Figure size 640x480 with 1 Axes>"
      ]
     },
     "metadata": {},
     "output_type": "display_data"
    }
   ],
   "source": [
    "A = [78, 85, 82, 88, 75, 80, 79, 83, 81, 87]\n",
    "B = [70, 72, 68, 74, 69, 71, 73, 70, 68, 72]\n",
    "\n",
    "# 1. 정규분포를 만족하는지\n",
    "print(stats.shapiro(A))\n",
    "print(stats.shapiro(B))\n",
    "\n",
    "# 2. 분산이 같은지\n",
    "print(stats.levene(A, B))\n",
    "\n",
    "# 3. 둘다 같으니 True \n",
    "stats.ttest_ind(A, B, equal_var = True, alternative = 'greater')\n",
    "\n",
    "# p-value가 0.05보다 작으니 대립가설 채택 -> 차이가 있다\n",
    "\n",
    "plt.hist(A, alpha = 0.5, bins = 'auto', edgecolor = 'black')\n",
    "plt.hist(B, alpha = 0.5, bins = 'auto', edgecolor = 'black')\n",
    "plt.legend(['A', 'B'])\n",
    "plt.show()"
   ]
  },
  {
   "cell_type": "code",
   "execution_count": null,
   "id": "f972d0f1-a686-4376-8ca3-77a9cd71206a",
   "metadata": {},
   "outputs": [],
   "source": []
  },
  {
   "cell_type": "code",
   "execution_count": null,
   "id": "f88ae27d-7433-447b-9c10-221d5230bb84",
   "metadata": {},
   "outputs": [],
   "source": []
  },
  {
   "cell_type": "markdown",
   "id": "f0f5cf09-55a6-4f6e-ab5e-5048845d43b9",
   "metadata": {},
   "source": [
    "3. 한 연구자가 특정 튜터링 프로그램이 학생들의 시험 성적에 미치는 영향을 조사하고자 하였습니다. 이를 위해 두 개의 독립 집단을 선정하였습니다. 두 그룹의 평균 시험 점수에 차이가 있는지 검정하시오. (유의수준 0.05)\n",
    "\n",
    "* 그룹 A: 튜터링 프로그램에 참여한 학생들의 시험 점수\n",
    "* 그룹 B: 튜터링 프로그램에 참여하지 않은 학생들의 시험 점수"
   ]
  },
  {
   "cell_type": "code",
   "execution_count": 49,
   "id": "8b524178-a311-4e01-a3ed-718012f338c4",
   "metadata": {},
   "outputs": [
    {
     "data": {
      "text/plain": [
       "TtestResult(statistic=7.686207367576637, pvalue=2.1561688683808457e-07, df=18.0)"
      ]
     },
     "execution_count": 49,
     "metadata": {},
     "output_type": "execute_result"
    }
   ],
   "source": [
    "A = [78, 85, 82, 88, 75, 80, 79, 83, 81, 87]\n",
    "B = [70, 72, 68, 74, 69, 71, 73, 70, 68, 72]\n",
    "\n",
    "# 귀무가설 : A가 B보다 같거나 작다\n",
    "# 대립가설 : A가 B보다 크다\n",
    "\n",
    "# 1\n",
    "stats.shapiro(A), stats.shapiro(B)\n",
    "\n",
    "# 2\n",
    "stats.levene(A, B)\n",
    "\n",
    "# 3\n",
    "stats.ttest_ind(A, B, equal_var=True, alternative='greater')\n",
    "\n"
   ]
  },
  {
   "cell_type": "code",
   "execution_count": null,
   "id": "14b1a9ab-b83f-4e08-a648-ee991a3bf64f",
   "metadata": {},
   "outputs": [],
   "source": []
  }
 ],
 "metadata": {
  "kernelspec": {
   "display_name": "Python [conda env:base] *",
   "language": "python",
   "name": "conda-base-py"
  },
  "language_info": {
   "codemirror_mode": {
    "name": "ipython",
    "version": 3
   },
   "file_extension": ".py",
   "mimetype": "text/x-python",
   "name": "python",
   "nbconvert_exporter": "python",
   "pygments_lexer": "ipython3",
   "version": "3.12.7"
  }
 },
 "nbformat": 4,
 "nbformat_minor": 5
}
