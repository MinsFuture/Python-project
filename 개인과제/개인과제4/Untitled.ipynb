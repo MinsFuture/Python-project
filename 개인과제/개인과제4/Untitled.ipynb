{
 "cells": [
  {
   "cell_type": "code",
   "execution_count": 59,
   "id": "4bcdb7e0-62b3-412f-971c-56ffbda9b904",
   "metadata": {},
   "outputs": [
    {
     "data": {
      "image/png": "[encoded data removed]",
      "text/plain": [
       "<Figure size 640x480 with 1 Axes>"
      ]
     },
     "metadata": {},
     "output_type": "display_data"
    },
    {
     "data": {
      "text/plain": [
       "[[3], [2], [1]]"
      ]
     },
     "execution_count": 59,
     "metadata": {},
     "output_type": "execute_result"
    }
   ],
   "source": [
    "import pandas as pd\n",
    "import seaborn as sns\n",
    "import warnings\n",
    "warnings.filterwarnings(\"ignore\")\n",
    "import scipy.stats as stats\n",
    "import matplotlib.pyplot as plt\n",
    "import numpy as np\n",
    "from scipy.stats import binom\n",
    "from scipy.stats import pearsonr\n",
    "import koreanize_matplotlib\n",
    "number_times = [i for i in range(0, 46)]\n",
    "\n",
    "#for number_list in total:\n",
    "#    for j in range(0, len(number_list)):\n",
    "#        print()\n",
    "        # print(number_list[j], end=\" \")\n",
    "        # number_times[number_list[j]] += 1\n",
    "        \n",
    "df = pd.DataFrame({'번호': range(0, 46), '빈도 수': number_times})\n",
    "plt.bar(df['번호'], df['빈도 수'], alpha=0.7, color='red', edgecolor='black')\n",
    "plt.xlabel('번호')\n",
    "plt.ylabel('빈도 수')\n",
    "plt.title('1회차 ~ 1160회차 로또 번호 빈도 수')\n",
    "plt.show()"
   ]
  },
  {
   "cell_type": "code",
   "execution_count": 69,
   "id": "ccfd160d-d6d4-4bc5-b795-68085f234a78",
   "metadata": {},
   "outputs": [
    {
     "ename": "NameError",
     "evalue": "name 'total' is not defined",
     "output_type": "error",
     "traceback": [
      "\u001b[0;31m---------------------------------------------------------------------------\u001b[0m",
      "\u001b[0;31mNameError\u001b[0m                                 Traceback (most recent call last)",
      "Cell \u001b[0;32mIn[69], line 8\u001b[0m\n\u001b[1;32m      4\u001b[0m week_numbers \u001b[38;5;241m=\u001b[39m [\u001b[38;5;241m0\u001b[39m \u001b[38;5;28;01mfor\u001b[39;00m i \u001b[38;5;129;01min\u001b[39;00m \u001b[38;5;28mrange\u001b[39m(\u001b[38;5;241m0\u001b[39m, \u001b[38;5;241m46\u001b[39m)]\n\u001b[1;32m      6\u001b[0m trueNum \u001b[38;5;241m=\u001b[39m \u001b[38;5;241m0\u001b[39m\n\u001b[0;32m----> 8\u001b[0m \u001b[38;5;28;01mfor\u001b[39;00m index, number_list \u001b[38;5;129;01min\u001b[39;00m \u001b[38;5;28menumerate\u001b[39m(total[::\u001b[38;5;241m-\u001b[39m\u001b[38;5;241m1\u001b[39m]):\n\u001b[1;32m      9\u001b[0m     \u001b[38;5;28;01mfor\u001b[39;00m j \u001b[38;5;129;01min\u001b[39;00m number_list:\n\u001b[1;32m     10\u001b[0m         \u001b[38;5;28;01mif\u001b[39;00m visited[j] \u001b[38;5;241m==\u001b[39m \u001b[38;5;28;01mFalse\u001b[39;00m:\n",
      "\u001b[0;31mNameError\u001b[0m: name 'total' is not defined"
     ]
    }
   ],
   "source": [
    "# 방문 체크\n",
    "visited = [False for i in range(0, 46)]\n",
    "# 나온지 얼마나 됐는지\n",
    "week_numbers = [0 for i in range(0, 46)]\n",
    "\n",
    "trueNum = 0\n",
    "\n",
    "total\n",
    "\n",
    "for index, number_list in enumerate(total[::-1]):\n",
    "    for j in number_list:\n",
    "        if visited[j] == False:\n",
    "            visited[j] = True\n",
    "            week_number = index\n",
    "            trueNum += 1\n",
    "            \n",
    "        if trueNum == 45:\n",
    "            break;\n",
    "\n"
   ]
  },
  {
   "cell_type": "code",
   "execution_count": null,
   "id": "e92501f2-00b3-468b-92bc-b022c7330a64",
   "metadata": {},
   "outputs": [],
   "source": []
  }
 ],
 "metadata": {
  "kernelspec": {
   "display_name": "Python [conda env:base] *",
   "language": "python",
   "name": "conda-base-py"
  },
  "language_info": {
   "codemirror_mode": {
    "name": "ipython",
    "version": 3
   },
   "file_extension": ".py",
   "mimetype": "text/x-python",
   "name": "python",
   "nbconvert_exporter": "python",
   "pygments_lexer": "ipython3",
   "version": "3.12.7"
  }
 },
 "nbformat": 4,
 "nbformat_minor": 5
}
