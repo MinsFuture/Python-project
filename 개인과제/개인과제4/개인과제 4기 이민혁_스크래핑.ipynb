{
 "cells": [
  {
   "cell_type": "markdown",
   "id": "9224fd7f-b0f0-42ed-b1bb-2afe34cdd650",
   "metadata": {},
   "source": [
    "# 데이터 스크래핑\n",
    "데이터 스크래핑은 웹 사이트나 온라인 소스에서 원하는 데이터를 자동으로 추출하는 기술을 의미합니다. 이 과정을 통해 사람이 일일이 데이터를 수집하지 않고도, 프로그램을 이용하여 대량의 정보를 빠르게 모을 수 있습니다.\n",
    "\n",
    "## robots.txt 파일\n",
    "웹사이트의 루트 디렉토리에 위치한 텍스트 파일로, 웹 크롤러(검색 엔진 로봇)나 스크래퍼에게 어떤 페이지나 디렉토리를 크롤링해도 되는지, 또는 크롤링하지 말아야 하는지 지시하는 역할을 합니다.\n",
    "\n",
    "* User-agent: 각 지시문이 적용되는 크롤러를 지정합니다.\n",
    "* Disallow: 해당 경로에 있는 페이지나 디렉토리에 접근하지 말라는 지시입니다.\n",
    "* Allow: Disallow 규칙이 적용되는 범위 중에서 특정 경로는 접근을 허용하는 경우 사용합니다."
   ]
  },
  {
   "cell_type": "markdown",
   "id": "a64685ca-b3f8-4ccc-bc50-1f0b4bcab319",
   "metadata": {},
   "source": [
    "## GET 요청\n",
    "GET은 서버에서 데이터를 “요청”할 때 사용하는 메서드입니다. URL에 필요한 정보(쿼리 파라미터)를 포함하여 보내며, 주로 데이터를 조회할 때 사용됩니다.\n",
    "\n",
    "* HTML 소스 가져오기"
   ]
  },
  {
   "cell_type": "code",
   "execution_count": 4,
   "id": "0c2ae42d-1a25-4996-9b0d-dd08bb2bf6de",
   "metadata": {},
   "outputs": [
    {
     "name": "stdout",
     "output_type": "stream",
     "text": [
      "상태 코드: 200\n"
     ]
    }
   ],
   "source": [
    "import requests\n",
    "\n",
    "# 대상 사이트 URL\n",
    "url = \"http://example.com\"\n",
    "\n",
    "# GET 요청을 보내 HTML 소스 가져오기\n",
    "response = requests.get(url)\n",
    "\n",
    "# 응답 상태 코드 확인 (200이면 성공)\n",
    "print(\"상태 코드:\", response.status_code)"
   ]
  },
  {
   "cell_type": "markdown",
   "id": "d7ad7fb9-d016-4c62-94a4-90a838dd9d70",
   "metadata": {},
   "source": [
    "* HTML 소스 출력하기"
   ]
  },
  {
   "cell_type": "code",
   "execution_count": 5,
   "id": "da8ba1d3-30b5-4806-8f96-85d8b871893d",
   "metadata": {},
   "outputs": [
    {
     "name": "stdout",
     "output_type": "stream",
     "text": [
      "HTML 소스:\n",
      " <!doctype html>\n",
      "<html>\n",
      "<head>\n",
      "    <title>Example Domain</title>\n",
      "\n",
      "    <meta charset=\"utf-8\" />\n",
      "    <meta http-equiv=\"Content-type\" content=\"text/html; charset=utf-8\" />\n",
      "    <meta name=\"viewport\" content=\"width=device-width, initial-scale=1\" />\n",
      "    <style type=\"text/css\">\n",
      "    body {\n",
      "        background-color: #f0f0f2;\n",
      "        margin: 0;\n",
      "        padding: 0;\n",
      "        font-family: -apple-system, system-ui, BlinkMacSystemFont, \"Segoe UI\", \"Open Sans\", \"Helvetica Neue\", Helvetica, Arial, sans-serif;\n",
      "        \n",
      "    }\n",
      "    div {\n",
      "        width: 600px;\n",
      "        margin: 5em auto;\n",
      "        padding: 2em;\n",
      "        background-color: #fdfdff;\n",
      "        border-radius: 0.5em;\n",
      "        box-shadow: 2px 3px 7px 2px rgba(0,0,0,0.02);\n",
      "    }\n",
      "    a:link, a:visited {\n",
      "        color: #38488f;\n",
      "        text-decoration: none;\n",
      "    }\n",
      "    @media (max-width: 700px) {\n",
      "        div {\n",
      "            margin: 0 auto;\n",
      "            width: auto;\n",
      "        }\n",
      "    }\n",
      "    </style>    \n",
      "</head>\n",
      "\n",
      "<body>\n",
      "<div>\n",
      "    <h1>Example Domain</h1>\n",
      "    <p>This domain is for use in illustrative examples in documents. You may use this\n",
      "    domain in literature without prior coordination or asking for permission.</p>\n",
      "    <p><a href=\"https://www.iana.org/domains/example\">More information...</a></p>\n",
      "</div>\n",
      "</body>\n",
      "</html>\n",
      "\n"
     ]
    }
   ],
   "source": [
    "# HTML 소스 출력 (문자열 형태)\n",
    "html_content = response.text\n",
    "print(\"HTML 소스:\\n\", html_content)"
   ]
  },
  {
   "cell_type": "markdown",
   "id": "10cbebdb-9303-4c7f-bebb-5977ed27a5eb",
   "metadata": {},
   "source": [
    "* 간단한 데이터 추출 (예: 제목 추출)"
   ]
  },
  {
   "cell_type": "code",
   "execution_count": 6,
   "id": "d8051a86-904f-453d-9392-6d7172f70145",
   "metadata": {},
   "outputs": [
    {
     "name": "stdout",
     "output_type": "stream",
     "text": [
      "페이지 제목: Example Domain\n",
      "헤더 텍스트: Example Domain\n",
      "본문 내용: This domain is for use in illustrative examples in documents. You may use this\n",
      "    domain in literature without prior coordination or asking for permission.\n"
     ]
    }
   ],
   "source": [
    "from bs4 import BeautifulSoup\n",
    "\n",
    "# BeautifulSoup 객체 생성 (HTML 파싱)\n",
    "soup = BeautifulSoup(html_content, 'html.parser')\n",
    "\n",
    "# <title> 태그의 내용 추출\n",
    "page_title = soup.title.string\n",
    "print(\"페이지 제목:\", page_title)\n",
    "\n",
    "# <h1> 태그의 내용 추출\n",
    "h1_text = soup.find('h1').string\n",
    "print(\"헤더 텍스트:\", h1_text)\n",
    "\n",
    "# 첫 번째 <p> 태그의 내용 추출\n",
    "p_text = soup.find('p').string\n",
    "print(\"본문 내용:\", p_text)"
   ]
  },
  {
   "cell_type": "markdown",
   "id": "91ad600c-e3a1-436e-a033-601562a20c2c",
   "metadata": {},
   "source": [
    "## 연습문제\n",
    "1. 로또 데이터를 모두 수집한 후, 번호별 출현횟수를 구하고 이를 시각화하세요."
   ]
  },
  {
   "cell_type": "code",
   "execution_count": 291,
   "id": "62334b87-8148-448b-b53a-8e266c8e7692",
   "metadata": {},
   "outputs": [],
   "source": [
    "# 데이터 스크래핑 : 인터넷에서 정보를 가져오는 기술\n",
    "import pandas as pd\n",
    "import warnings\n",
    "warnings.filterwarnings(\"ignore\")\n",
    "import matplotlib.pyplot as plt\n",
    "import koreanize_matplotlib\n",
    "import pickle"
   ]
  },
  {
   "cell_type": "code",
   "execution_count": null,
   "id": "da9189f0-5727-43c5-94b6-ca15c6a408f8",
   "metadata": {},
   "outputs": [],
   "source": [
    "def make_numbers(html):\n",
    "    box = html.find('div', class_ = 'lottonum').find_all('span')\n",
    "    del box[6:8]\n",
    "    box\n",
    "\n",
    "    numbers = []\n",
    "    for i in box:\n",
    "        numbers.append(int(i.text))\n",
    "    return numbers\n",
    "    \n",
    "url = requests.get('https://search.daum.net/search?w=tot&DA=YZR&t__nil_searchbox=btn&q=%EB%A1%9C%EB%98%90')\n",
    "total = []\n",
    "for i in range(1, 1161):\n",
    "    url = requests.get(f'https://search.daum.net/search?w=tot&rtmaxcoll=LOT&DA=LOT&q={i}%ED%9A%8C%20%EB%A1%9C%EB%98%90%EB%8B%B9%EC%B2%A8%EB%B2%88%ED%98%B8')\n",
    "    html = BeautifulSoup(url.text)\n",
    "    numbers = make_numbers(html)\n",
    "    total.append(numbers)\n",
    "    print(f'{i}회 로또 데이터 저장완료 : {numbers}')\n",
    "    time.sleep(0.5)\n",
    "\n",
    "pd.DataFrame(total).to_excel('로또넘버.xlsx')"
   ]
  },
  {
   "cell_type": "code",
   "execution_count": 271,
   "id": "dc150e20-4da4-40c3-b49d-e2ed1bb493ef",
   "metadata": {},
   "outputs": [
    {
     "data": {
      "image/png": "[encoded data removed]",
      "text/plain": [
       "<Figure size 640x480 with 1 Axes>"
      ]
     },
     "metadata": {},
     "output_type": "display_data"
    }
   ],
   "source": [
    "number_times = [i for i in range(0, 46)]\n",
    "\n",
    "for number_list in total:\n",
    "    for j in range(0, len(number_list)):\n",
    "        number_times[number_list[j]] += 1\n",
    "        \n",
    "df = pd.DataFrame({'번호': range(0, 46), '빈도 수': number_times})\n",
    "plt.bar(df['번호'], df['빈도 수'], alpha=0.7, color='red', edgecolor='black')\n",
    "plt.xlabel('번호')\n",
    "plt.ylabel('빈도 수')\n",
    "plt.title('1회차 ~ 1160회차 로또 번호 빈도 수')\n",
    "plt.show()"
   ]
  },
  {
   "cell_type": "markdown",
   "id": "b44aa903-d115-4cb0-ba22-f85f24b5431c",
   "metadata": {},
   "source": [
    "2. 최근 데이터를 기준으로, 번호별로 몇 주 동안 출현하지 않았는지 분석한 후, 제공된 Result.txt 파일과 동일한 형식의 파일을 생성하는 코드를 작성하세요."
   ]
  },
  {
   "cell_type": "code",
   "execution_count": 332,
   "id": "cc7bc2c9-534c-472c-9cef-9d82fe0bd8f3",
   "metadata": {},
   "outputs": [],
   "source": [
    "# 방문 체크\n",
    "visited = [False for i in range(0, 46)]\n",
    "# 나온지 얼마나 됐는지\n",
    "week_numbers = [0 for i in range(0, 46)]\n",
    "\n",
    "trueNum = 0\n",
    "\n",
    "for index, number_list in enumerate(total[::-1]):\n",
    "    for j in number_list:\n",
    "        if visited[j] == False:\n",
    "            visited[j] = True\n",
    "            week_numbers[j] = index\n",
    "            trueNum += 1\n",
    "            \n",
    "        if trueNum == 45:\n",
    "            break;\n",
    "\n",
    "df = pd.DataFrame({\n",
    "    '번호' : range(1, 46),\n",
    "    '미출현주차' : week_numbers[1:]\n",
    "})\n",
    "\n",
    "df = df.sort_values(['미출현주차', '번호'], ascending=[False, True])\n",
    "\n",
    "text_df = \"1160회 기준 로또 번호별 연속 미출현 기간\\n\\n\"\n",
    "\n",
    "for _, row in df.iterrows():  # iterrows()를 사용하여 행 순회\n",
    "    text_df += f\"{row['번호']}번 : {row['미출현주차']}주 연속 미출현\\n\"\n",
    "\n",
    "with open('Result.txt', \"w\", encoding=\"utf-8\") as file:\n",
    "    file.write(text_df)"
   ]
  },
  {
   "cell_type": "markdown",
   "id": "e109f2fc-37e7-4b4c-a532-69946b79b96e",
   "metadata": {},
   "source": [
    "3. 로또에서 6개의 번호 중 3개의 번호를 맞추면 5등에 당첨됩니다. 지금까지 한 번도 등장하지 않은 5등 번호 조합을 찾아, 그 개수를 출력하세요."
   ]
  },
  {
   "cell_type": "code",
   "execution_count": 289,
   "id": "8f03e813-843b-43fd-aa72-1244209ce54d",
   "metadata": {},
   "outputs": [
    {
     "name": "stdout",
     "output_type": "stream",
     "text": [
      "2681\n"
     ]
    }
   ],
   "source": [
    "# 모든 5등 번호 조합에서 등장한 번호 조합 제거\n",
    "\n",
    "# 모든 5등 번호 조합\n",
    "all_5th = []\n",
    "for i in range(1, 46):\n",
    "    for j in range(i+1, 46):\n",
    "        for k in range(j+1, 46):\n",
    "            all_5th.append([i, j, k])\n",
    "\n",
    "# 등장한 번호 조합, 중복 제거를 위해 Set\n",
    "all_appear_5th = set()\n",
    "for number_list in total:\n",
    "    for i in range(0, 6):\n",
    "        for j in range(i+1, 6):\n",
    "            for k in range(j+1, 6):\n",
    "                num1 = number_list[i]\n",
    "                num2 = number_list[j]\n",
    "                num3 = number_list[k]\n",
    "                new_5th_combination = [num1, num2, num3]\n",
    "                all_appear_5th.add(tuple(new_5th_combination))\n",
    "                \n",
    "print(len(all_5th) - len(all_appear_5th))"
   ]
  },
  {
   "cell_type": "code",
   "execution_count": 326,
   "id": "d7d9e8b3-f97f-407a-afce-bc4175440636",
   "metadata": {},
   "outputs": [
    {
     "data": {
      "text/plain": [
       "Index([ 1,  2,  3,  4,  5,  6,  7,  8,  9, 10, 11, 12, 13, 14, 15, 16, 17, 18,\n",
       "       19, 20, 21, 22, 23, 24, 25, 26, 27, 28, 29, 30, 31, 32, 33, 34, 35, 36,\n",
       "       37, 38, 39, 40, 41, 42, 43, 44, 45],\n",
       "      dtype='int64', name='번호')"
      ]
     },
     "execution_count": 326,
     "metadata": {},
     "output_type": "execute_result"
    }
   ],
   "source": []
  },
  {
   "cell_type": "code",
   "execution_count": null,
   "id": "6a015a3e-03ba-4950-8f0c-c826a8049ec4",
   "metadata": {},
   "outputs": [],
   "source": []
  }
 ],
 "metadata": {
  "kernelspec": {
   "display_name": "Python [conda env:base] *",
   "language": "python",
   "name": "conda-base-py"
  },
  "language_info": {
   "codemirror_mode": {
    "name": "ipython",
    "version": 3
   },
   "file_extension": ".py",
   "mimetype": "text/x-python",
   "name": "python",
   "nbconvert_exporter": "python",
   "pygments_lexer": "ipython3",
   "version": "3.12.7"
  }
 },
 "nbformat": 4,
 "nbformat_minor": 5
}
