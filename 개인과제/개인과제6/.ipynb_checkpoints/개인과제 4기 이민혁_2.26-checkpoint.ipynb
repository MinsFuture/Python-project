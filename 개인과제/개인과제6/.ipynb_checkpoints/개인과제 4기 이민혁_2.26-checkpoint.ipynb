{
 "cells": [
  {
   "cell_type": "code",
   "execution_count": 205,
   "id": "a356e607-0329-47de-bdf4-63fcefb88ccc",
   "metadata": {},
   "outputs": [],
   "source": [
    "import pandas as pd\n",
    "import warnings\n",
    "warnings.filterwarnings('ignore')\n",
    "import matplotlib.pyplot as plt\n",
    "import koreanize_matplotlib\n",
    "import scipy.stats as stats\n",
    "from scipy.stats import binom\n",
    "from scipy.stats import poisson"
   ]
  },
  {
   "cell_type": "markdown",
   "id": "94117224-bc1d-4a10-a242-eac9b1adfeb6",
   "metadata": {},
   "source": [
    "### 1\n",
    "- 데이터 전처리\n",
    "- 3개 데이터 파일을 불러와 전처리하시오.\n",
    "- 각 파일의 상단에 기재된 기간(월) 정보를 활용하여 기간 컬럼을 추가할 것.\n",
    "- 컬럼명 합계는 앞에 공백이 포함되어 있으므로 “ 합계” 로 되어 있음을 확인하고 처리할 것."
   ]
  },
  {
   "cell_type": "code",
   "execution_count": 6,
   "id": "be91b343-7e0c-4aa6-9d27-a0876d34639c",
   "metadata": {},
   "outputs": [
    {
     "data": {
      "text/html": [
       "<div>\n",
       "<style scoped>\n",
       "    .dataframe tbody tr th:only-of-type {\n",
       "        vertical-align: middle;\n",
       "    }\n",
       "\n",
       "    .dataframe tbody tr th {\n",
       "        vertical-align: top;\n",
       "    }\n",
       "\n",
       "    .dataframe thead th {\n",
       "        text-align: right;\n",
       "    }\n",
       "</style>\n",
       "<table border=\"1\" class=\"dataframe\">\n",
       "  <thead>\n",
       "    <tr style=\"text-align: right;\">\n",
       "      <th></th>\n",
       "      <th>순번</th>\n",
       "      <th>상품코드</th>\n",
       "      <th>상품명</th>\n",
       "      <th>합계</th>\n",
       "      <th>(1154)의정부점</th>\n",
       "      <th>(1155)별내점</th>\n",
       "      <th>(1156)풍산점</th>\n",
       "      <th>(1157)김포한강점</th>\n",
       "      <th>(1158)세종점</th>\n",
       "      <th>(1159)킨텍스점</th>\n",
       "      <th>...</th>\n",
       "      <th>(4170)NBR세종대평시장점</th>\n",
       "      <th>(4512)NBFC동해남부시장점</th>\n",
       "      <th>(4546)NBFC영주가흥점</th>\n",
       "      <th>(4547)NBFC포항상도점</th>\n",
       "      <th>(7717)일렉트로마트 김포점</th>\n",
       "      <th>(1601)NB당진어시장점</th>\n",
       "      <th>(1650)NB안성시장점</th>\n",
       "      <th>(2676)송파점</th>\n",
       "      <th>(2677)수원태장점</th>\n",
       "      <th>(4548)NBFC칠곡석적점</th>\n",
       "    </tr>\n",
       "  </thead>\n",
       "  <tbody>\n",
       "    <tr>\n",
       "      <th>0</th>\n",
       "      <td>1.0</td>\n",
       "      <td>1801828.0</td>\n",
       "      <td>자연숨결 식약처 허가 초미세먼지 마스크 대형 60매(KF94)</td>\n",
       "      <td>65402</td>\n",
       "      <td>174</td>\n",
       "      <td>239</td>\n",
       "      <td>432</td>\n",
       "      <td>199</td>\n",
       "      <td>220</td>\n",
       "      <td>263</td>\n",
       "      <td>...</td>\n",
       "      <td>NaN</td>\n",
       "      <td>NaN</td>\n",
       "      <td>NaN</td>\n",
       "      <td>NaN</td>\n",
       "      <td>NaN</td>\n",
       "      <td>NaN</td>\n",
       "      <td>NaN</td>\n",
       "      <td>NaN</td>\n",
       "      <td>NaN</td>\n",
       "      <td>NaN</td>\n",
       "    </tr>\n",
       "    <tr>\n",
       "      <th>1</th>\n",
       "      <td>2.0</td>\n",
       "      <td>1801859.0</td>\n",
       "      <td>블루방역황사마스크 65매 KF94</td>\n",
       "      <td>1</td>\n",
       "      <td>0</td>\n",
       "      <td>0</td>\n",
       "      <td>0</td>\n",
       "      <td>0</td>\n",
       "      <td>0</td>\n",
       "      <td>0</td>\n",
       "      <td>...</td>\n",
       "      <td>NaN</td>\n",
       "      <td>NaN</td>\n",
       "      <td>NaN</td>\n",
       "      <td>NaN</td>\n",
       "      <td>NaN</td>\n",
       "      <td>NaN</td>\n",
       "      <td>NaN</td>\n",
       "      <td>NaN</td>\n",
       "      <td>NaN</td>\n",
       "      <td>NaN</td>\n",
       "    </tr>\n",
       "  </tbody>\n",
       "</table>\n",
       "<p>2 rows × 661 columns</p>\n",
       "</div>"
      ],
      "text/plain": [
       "    순번       상품코드                                 상품명     합계 (1154)의정부점  \\\n",
       "0  1.0  1801828.0  자연숨결 식약처 허가 초미세먼지 마스크 대형 60매(KF94)  65402        174   \n",
       "1  2.0  1801859.0                  블루방역황사마스크 65매 KF94      1          0   \n",
       "\n",
       "  (1155)별내점 (1156)풍산점 (1157)김포한강점 (1158)세종점 (1159)킨텍스점  ... (4170)NBR세종대평시장점  \\\n",
       "0       239       432         199       220        263  ...              NaN   \n",
       "1         0         0           0         0          0  ...              NaN   \n",
       "\n",
       "  (4512)NBFC동해남부시장점 (4546)NBFC영주가흥점 (4547)NBFC포항상도점 (7717)일렉트로마트 김포점  \\\n",
       "0               NaN             NaN             NaN              NaN   \n",
       "1               NaN             NaN             NaN              NaN   \n",
       "\n",
       "  (1601)NB당진어시장점 (1650)NB안성시장점 (2676)송파점 (2677)수원태장점 (4548)NBFC칠곡석적점  \n",
       "0            NaN           NaN       NaN         NaN             NaN  \n",
       "1            NaN           NaN       NaN         NaN             NaN  \n",
       "\n",
       "[2 rows x 661 columns]"
      ]
     },
     "execution_count": 6,
     "metadata": {},
     "output_type": "execute_result"
    }
   ],
   "source": [
    "df = []\n",
    "for i in range(6, 9):\n",
    "    temp = pd.read_excel(f'07_ERP/기간별상품매출현황_20230{i}.xlsx', skiprows=2)\n",
    "    temp['기간'] = str(i) + '월'\n",
    "    temp = temp.iloc[2:]\n",
    "    df.append(temp)\n",
    "\n",
    "df = pd.concat([data for data in df], ignore_index=True)\n",
    "df = df.rename(columns={' 합계': '합계'})\n",
    "df.head(2)"
   ]
  },
  {
   "cell_type": "markdown",
   "id": "210d44c8-d7cd-4317-ac52-12e64d70e7f8",
   "metadata": {},
   "source": [
    "### 2\n",
    "- 상위 2개 지점 선정\n",
    "- 각 지점별 판매량의 합계를 계산하여, 그 중 합계가 가장 높은 상위 2개 지점을 확인하시오."
   ]
  },
  {
   "cell_type": "code",
   "execution_count": 179,
   "id": "2751cbbf-1d80-4986-b4c5-28b39feb7374",
   "metadata": {},
   "outputs": [
    {
     "data": {
      "text/plain": [
       "지점명\n",
       "(610)부천점    67612\n",
       "(600)안양점    62987\n",
       "Name: 판매량, dtype: int64"
      ]
     },
     "execution_count": 179,
     "metadata": {},
     "output_type": "execute_result"
    }
   ],
   "source": [
    "df2 = pd.melt(df, id_vars=['순번', '상품코드', '상품명', '합계', '기간'], var_name = '지점명', value_name='판매량').fillna(0)\n",
    "high_two = df2.groupby('지점명')['판매량'].sum().sort_values(ascending=False).head(2)\n",
    "high_two"
   ]
  },
  {
   "cell_type": "markdown",
   "id": "62e78022-1068-41d8-a0e9-3092a0c933c5",
   "metadata": {},
   "source": [
    "3. **히스토그램 시각화**\n",
    "    \n",
    "    2번에서 확인한 상위 2개 지점의 **판매량** 데이터를 히스토그램으로 시각화하시오."
   ]
  },
  {
   "cell_type": "code",
   "execution_count": 12,
   "id": "3b6d0a29-ce24-4634-b7ab-994111e1ccec",
   "metadata": {},
   "outputs": [
    {
     "data": {
      "image/png": "[encoded data removed]",
      "text/plain": [
       "<Figure size 640x480 with 1 Axes>"
      ]
     },
     "metadata": {},
     "output_type": "display_data"
    }
   ],
   "source": [
    "df3 = pd.DataFrame(high_two)\n",
    "\n",
    "plt.bar(df3.index, df3['판매량'], alpha = 0.5, edgecolor = 'black')\n",
    "plt.show()"
   ]
  },
  {
   "cell_type": "markdown",
   "id": "eafcbbb4-edf6-45be-a36d-ca7bb710b953",
   "metadata": {},
   "source": [
    "## 4\n",
    "- 기간별 최고 판매 지점 및 저장 함수 생성\n",
    "- 각 기간(월)별로 판매량 합이 가장 높은 지점을 확인하시오.\n",
    "- 특정 기간(월)을 입력하면, 해당 월의 각 지점별 판매량 합계를 result_{월}.xlsx 파일로 저장하는 함수를 작성하시오."
   ]
  },
  {
   "cell_type": "code",
   "execution_count": 59,
   "id": "fdf2f99c-4c21-4a63-8929-e30819dabf93",
   "metadata": {},
   "outputs": [
    {
     "name": "stdout",
     "output_type": "stream",
     "text": [
      "(610)부천점\n",
      "(610)부천점\n",
      "(740)속초점\n"
     ]
    },
    {
     "name": "stdin",
     "output_type": "stream",
     "text": [
      "월을 입력하세요 :  6\n"
     ]
    }
   ],
   "source": [
    "# 각 기간(월)별로 판매량 합이 가장 높은 지점\n",
    "for i in range(6, 9):\n",
    "    print(df2[df2['기간'] == f'{i}월'].groupby('지점명')['판매량'].sum().idxmax())\n",
    "\n",
    "# 특정 월 입력\n",
    "month = int(input('월을 입력하세요 : '))\n",
    "\n",
    "df2[df2['기간'] == f'{month}월'].groupby('지점명')['판매량'].sum().to_frame().to_excel(f'result_{month}.xlsx')"
   ]
  },
  {
   "cell_type": "markdown",
   "id": "57773a46-690a-4e26-8972-f9e287f512cd",
   "metadata": {},
   "source": [
    "5. **정규성 검정**\n",
    "    \n",
    "    2번에서 선정한 2개 지점의 **판매량** 데이터에 대해 각각 정규성 검정을 수행하고, 그 결과에 따른 결론을 작성하시오."
   ]
  },
  {
   "cell_type": "code",
   "execution_count": 123,
   "id": "5919f597-5d46-403e-bb3a-192e434db159",
   "metadata": {},
   "outputs": [
    {
     "name": "stdout",
     "output_type": "stream",
     "text": [
      "ShapiroResult(statistic=0.35796291261487223, pvalue=7.24716285463559e-34)\n",
      "ShapiroResult(statistic=0.44767860990061403, pvalue=5.195484375652869e-32)\n"
     ]
    }
   ],
   "source": [
    "first, second = high_two.index\n",
    "\n",
    "list1 = [i for i in df2[df2['지점명'] == first]['판매량']]\n",
    "list2 = [i for i in df2[df2['지점명'] == second]['판매량']]\n",
    "\n",
    "# 정규성 검정\n",
    "print(stats.shapiro(list1))\n",
    "print(stats.shapiro(list2))\n",
    "\n",
    "# 결론 : 정규성 만족을 만족하지 않는다."
   ]
  },
  {
   "cell_type": "markdown",
   "id": "f4e955b6-d617-4c1f-a810-bdbf3955e6f1",
   "metadata": {},
   "source": [
    "6. **가설 검정**\n",
    "    - 2번에서 선정한 2개 지점의 **판매량** 대표값 차이를 비교하고자 할 때, 적절한 가설(귀무가설과 대립가설)을 수립하시오."
   ]
  },
  {
   "cell_type": "code",
   "execution_count": 119,
   "id": "d1f03100-cfeb-4ac0-811e-5803367c3614",
   "metadata": {},
   "outputs": [],
   "source": [
    "# 귀무가설 :\n",
    "# \"선정된 두 지점의 판매량 대표값에는 차이가 없다.\"\n",
    "\n",
    "# 대립가설 :\n",
    "# \"선정된 두 지점의 판매량 대표값에는 차이가 있다.\""
   ]
  },
  {
   "cell_type": "markdown",
   "id": "98e57620-df68-47f9-9373-3bfa0bb7b412",
   "metadata": {},
   "source": [
    "7. **상품분류에 따른 판매량 대표값 차이 검정**\n",
    "    - **상품명**을 기반으로 ‘마스크’와 ‘휴지’ 제품을 구분하되, 해당 두 제품 외의 상품은 **기타**로 분류하여 **상품분류**라는 파생변수를 생성하시오.\n",
    "    - ‘마스크’와 ‘휴지’ 두 상품의 **판매량** 대표값 차이에 대해 가설을 수립하고, 가설 검정을 수행하시오."
   ]
  },
  {
   "cell_type": "code",
   "execution_count": 191,
   "id": "8f1b7bec-1c2d-402c-ad15-853235ae09b2",
   "metadata": {},
   "outputs": [
    {
     "name": "stdout",
     "output_type": "stream",
     "text": [
      "ShapiroResult(statistic=0.25210547736845645, pvalue=9.107060079403786e-130)\n",
      "ShapiroResult(statistic=0.20222676177312737, pvalue=1.2520872807408766e-131)\n",
      "MannwhitneyuResult(statistic=252658610.5, pvalue=2.5537986096670727e-88)\n"
     ]
    }
   ],
   "source": [
    "df2['상품분류'] = df2['상품명'].apply(lambda x: '마스크' if '마스크' in x else ('휴지' if '휴지' in x else '기타'))\n",
    "df2\n",
    "\n",
    "mask = [i for i in df2[df2['상품분류'] == '마스크']['판매량']]\n",
    "tissue = [i for i in df2[df2['상품분류'] == '휴지']['판매량']]\n",
    "\n",
    "# 정규성 검정\n",
    "print(stats.shapiro(mask))\n",
    "print(stats.shapiro(tissue))\n",
    "\n",
    "# 정규성 만족 X \n",
    "print(stats.mannwhitneyu(mask, tissue))\n",
    "\n",
    "# 결론 : 두 그룹의 중앙값이 통계적으로 유의미하게 다름"
   ]
  },
  {
   "cell_type": "markdown",
   "id": "db450cc2-acf2-45c4-8929-a8758de27259",
   "metadata": {},
   "source": [
    "8. **제품 불량률 확률 계산**\n",
    "    \n",
    "    한 회사의 제품 불량률이 10%일 때, 30개의 제품을 검사하여 5개 이상의 불량품이 나올 확률을 계산하시오."
   ]
  },
  {
   "cell_type": "code",
   "execution_count": 201,
   "id": "44b835e0-4d5e-4f4f-aff7-60a479fcfe55",
   "metadata": {},
   "outputs": [
    {
     "data": {
      "text/plain": [
       "0.17549487903389516"
      ]
     },
     "execution_count": 201,
     "metadata": {},
     "output_type": "execute_result"
    }
   ],
   "source": [
    "n = 30\n",
    "p = 0.1\n",
    "\n",
    "\n",
    "1 - binom.cdf(4, n, p)"
   ]
  },
  {
   "cell_type": "markdown",
   "id": "e3f2a8aa-30ff-409c-b0d3-49be62f13920",
   "metadata": {},
   "source": [
    "9. **고객센터 문의 건수 확률 계산**\n",
    "    \n",
    "    어느 고객센터에 하루 평균 3건의 문의가 온다고 할 때, 하루에 문의가 5건 이상 올 확률을 계산하시오."
   ]
  },
  {
   "cell_type": "code",
   "execution_count": 218,
   "id": "1f914dc2-2e16-4cc6-9ae7-947315d0a4e5",
   "metadata": {},
   "outputs": [
    {
     "data": {
      "text/plain": [
       "0.1847367554762278"
      ]
     },
     "execution_count": 218,
     "metadata": {},
     "output_type": "execute_result"
    }
   ],
   "source": [
    "# 람다 : 전체 시행 횟수, k : 발생할 횟수\n",
    "1 - poisson.cdf(4, 3)"
   ]
  },
  {
   "cell_type": "markdown",
   "id": "532c53eb-f7cd-48b3-8275-687b0c08a4cb",
   "metadata": {},
   "source": [
    "10. **데이터 표준화 및 시각화**\n",
    "    \n",
    "    '01_Data.csv' 파일의 **Amount_Month** 데이터를 표준화하여 표준 정규분포로 변환한 후, 그 결과를 그래프로 시각화하시오."
   ]
  },
  {
   "cell_type": "code",
   "execution_count": null,
   "id": "978cf38f-fe34-42cd-a311-52b819501637",
   "metadata": {},
   "outputs": [],
   "source": [
    "pd."
   ]
  }
 ],
 "metadata": {
  "kernelspec": {
   "display_name": "Python [conda env:base] *",
   "language": "python",
   "name": "conda-base-py"
  },
  "language_info": {
   "codemirror_mode": {
    "name": "ipython",
    "version": 3
   },
   "file_extension": ".py",
   "mimetype": "text/x-python",
   "name": "python",
   "nbconvert_exporter": "python",
   "pygments_lexer": "ipython3",
   "version": "3.12.7"
  }
 },
 "nbformat": 4,
 "nbformat_minor": 5
}
