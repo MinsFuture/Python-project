{
 "cells": [
  {
   "cell_type": "code",
   "execution_count": 1,
   "id": "964a8de9-71be-4736-9a5e-04e4bb7dd6b4",
   "metadata": {},
   "outputs": [],
   "source": [
    "# 4기 이민혁\n",
    "import pandas as pd\n",
    "\n",
    "df = pd.read_csv('02_Data.csv')"
   ]
  },
  {
   "cell_type": "code",
   "execution_count": 9,
   "id": "9363b699-394c-4059-b557-1f32a5c8bc79",
   "metadata": {},
   "outputs": [
    {
     "data": {
      "text/plain": [
       "'영업방판'"
      ]
     },
     "execution_count": 9,
     "metadata": {},
     "output_type": "execute_result"
    }
   ],
   "source": [
    "most_channel = df['Channel'].value_counts().idxmax()\n",
    "most_channel"
   ]
  },
  {
   "cell_type": "code",
   "execution_count": null,
   "id": "6690f4c0-b6f8-446e-a0e7-4c46d596dcea",
   "metadata": {},
   "outputs": [],
   "source": []
  }
 ],
 "metadata": {
  "kernelspec": {
   "display_name": "Python [conda env:base] *",
   "language": "python",
   "name": "conda-base-py"
  },
  "language_info": {
   "codemirror_mode": {
    "name": "ipython",
    "version": 3
   },
   "file_extension": ".py",
   "mimetype": "text/x-python",
   "name": "python",
   "nbconvert_exporter": "python",
   "pygments_lexer": "ipython3",
   "version": "3.12.7"
  }
 },
 "nbformat": 4,
 "nbformat_minor": 5
}
