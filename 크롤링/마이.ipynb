{
 "cells": [
  {
   "cell_type": "code",
   "execution_count": 44,
   "id": "2c69b637-86b3-4d1d-a5d2-94c140e09fbb",
   "metadata": {},
   "outputs": [
    {
     "name": "stdout",
     "output_type": "stream",
     "text": [
      "Point(x=2546, y=615)\n"
     ]
    },
    {
     "ename": "ImageNotFoundException",
     "evalue": "",
     "output_type": "error",
     "traceback": [
      "\u001b[0;31m---------------------------------------------------------------------------\u001b[0m",
      "\u001b[0;31mImageNotFoundException\u001b[0m                    Traceback (most recent call last)",
      "File \u001b[0;32m/opt/anaconda3/lib/python3.12/site-packages/pyautogui/__init__.py:172\u001b[0m, in \u001b[0;36mraisePyAutoGUIImageNotFoundException.<locals>.wrapper\u001b[0;34m(*args, **kwargs)\u001b[0m\n\u001b[1;32m    171\u001b[0m \u001b[38;5;28;01mtry\u001b[39;00m:\n\u001b[0;32m--> 172\u001b[0m     \u001b[38;5;28;01mreturn\u001b[39;00m wrappedFunction(\u001b[38;5;241m*\u001b[39margs, \u001b[38;5;241m*\u001b[39m\u001b[38;5;241m*\u001b[39mkwargs)\n\u001b[1;32m    173\u001b[0m \u001b[38;5;28;01mexcept\u001b[39;00m pyscreeze\u001b[38;5;241m.\u001b[39mImageNotFoundException:\n",
      "File \u001b[0;32m/opt/anaconda3/lib/python3.12/site-packages/pyautogui/__init__.py:204\u001b[0m, in \u001b[0;36mlocateCenterOnScreen\u001b[0;34m(*args, **kwargs)\u001b[0m\n\u001b[1;32m    202\u001b[0m \u001b[38;5;129m@raisePyAutoGUIImageNotFoundException\u001b[39m\n\u001b[1;32m    203\u001b[0m \u001b[38;5;28;01mdef\u001b[39;00m \u001b[38;5;21mlocateCenterOnScreen\u001b[39m(\u001b[38;5;241m*\u001b[39margs, \u001b[38;5;241m*\u001b[39m\u001b[38;5;241m*\u001b[39mkwargs):\n\u001b[0;32m--> 204\u001b[0m     \u001b[38;5;28;01mreturn\u001b[39;00m pyscreeze\u001b[38;5;241m.\u001b[39mlocateCenterOnScreen(\u001b[38;5;241m*\u001b[39margs, \u001b[38;5;241m*\u001b[39m\u001b[38;5;241m*\u001b[39mkwargs)\n",
      "File \u001b[0;32m/opt/anaconda3/lib/python3.12/site-packages/pyscreeze/__init__.py:447\u001b[0m, in \u001b[0;36mlocateCenterOnScreen\u001b[0;34m(image, **kwargs)\u001b[0m\n\u001b[1;32m    444\u001b[0m \u001b[38;5;250m\u001b[39m\u001b[38;5;124;03m\"\"\"\u001b[39;00m\n\u001b[1;32m    445\u001b[0m \u001b[38;5;124;03mTODO\u001b[39;00m\n\u001b[1;32m    446\u001b[0m \u001b[38;5;124;03m\"\"\"\u001b[39;00m\n\u001b[0;32m--> 447\u001b[0m coords \u001b[38;5;241m=\u001b[39m locateOnScreen(image, \u001b[38;5;241m*\u001b[39m\u001b[38;5;241m*\u001b[39mkwargs)\n\u001b[1;32m    448\u001b[0m \u001b[38;5;28;01mif\u001b[39;00m coords \u001b[38;5;129;01mis\u001b[39;00m \u001b[38;5;28;01mNone\u001b[39;00m:\n",
      "File \u001b[0;32m/opt/anaconda3/lib/python3.12/site-packages/pyscreeze/__init__.py:405\u001b[0m, in \u001b[0;36mlocateOnScreen\u001b[0;34m(image, minSearchTime, **kwargs)\u001b[0m\n\u001b[1;32m    404\u001b[0m screenshotIm \u001b[38;5;241m=\u001b[39m screenshot(region\u001b[38;5;241m=\u001b[39m\u001b[38;5;28;01mNone\u001b[39;00m)\n\u001b[0;32m--> 405\u001b[0m retVal \u001b[38;5;241m=\u001b[39m locate(image, screenshotIm, \u001b[38;5;241m*\u001b[39m\u001b[38;5;241m*\u001b[39mkwargs)\n\u001b[1;32m    406\u001b[0m \u001b[38;5;28;01mtry\u001b[39;00m:\n",
      "File \u001b[0;32m/opt/anaconda3/lib/python3.12/site-packages/pyscreeze/__init__.py:383\u001b[0m, in \u001b[0;36mlocate\u001b[0;34m(needleImage, haystackImage, **kwargs)\u001b[0m\n\u001b[1;32m    382\u001b[0m kwargs[\u001b[38;5;124m'\u001b[39m\u001b[38;5;124mlimit\u001b[39m\u001b[38;5;124m'\u001b[39m] \u001b[38;5;241m=\u001b[39m \u001b[38;5;241m1\u001b[39m\n\u001b[0;32m--> 383\u001b[0m points \u001b[38;5;241m=\u001b[39m \u001b[38;5;28mtuple\u001b[39m(locateAll(needleImage, haystackImage, \u001b[38;5;241m*\u001b[39m\u001b[38;5;241m*\u001b[39mkwargs))\n\u001b[1;32m    384\u001b[0m \u001b[38;5;28;01mif\u001b[39;00m \u001b[38;5;28mlen\u001b[39m(points) \u001b[38;5;241m>\u001b[39m \u001b[38;5;241m0\u001b[39m:\n",
      "File \u001b[0;32m/opt/anaconda3/lib/python3.12/site-packages/pyscreeze/__init__.py:257\u001b[0m, in \u001b[0;36m_locateAll_opencv\u001b[0;34m(needleImage, haystackImage, grayscale, limit, region, step, confidence)\u001b[0m\n\u001b[1;32m    256\u001b[0m \u001b[38;5;28;01mif\u001b[39;00m USE_IMAGE_NOT_FOUND_EXCEPTION:\n\u001b[0;32m--> 257\u001b[0m     \u001b[38;5;28;01mraise\u001b[39;00m ImageNotFoundException(\u001b[38;5;124m'\u001b[39m\u001b[38;5;124mCould not locate the image (highest confidence = \u001b[39m\u001b[38;5;132;01m%.3f\u001b[39;00m\u001b[38;5;124m)\u001b[39m\u001b[38;5;124m'\u001b[39m \u001b[38;5;241m%\u001b[39m result\u001b[38;5;241m.\u001b[39mmax())\n\u001b[1;32m    258\u001b[0m \u001b[38;5;28;01melse\u001b[39;00m:\n",
      "\u001b[0;31mImageNotFoundException\u001b[0m: Could not locate the image (highest confidence = 0.647)",
      "\nDuring handling of the above exception, another exception occurred:\n",
      "\u001b[0;31mImageNotFoundException\u001b[0m                    Traceback (most recent call last)",
      "Cell \u001b[0;32mIn[44], line 14\u001b[0m\n\u001b[1;32m     11\u001b[0m pyautogui\u001b[38;5;241m.\u001b[39mclick(A)\n\u001b[1;32m     12\u001b[0m time\u001b[38;5;241m.\u001b[39msleep(\u001b[38;5;241m2\u001b[39m)\n\u001b[0;32m---> 14\u001b[0m A \u001b[38;5;241m=\u001b[39m pyautogui\u001b[38;5;241m.\u001b[39mlocateCenterOnScreen(\u001b[38;5;124m'\u001b[39m\u001b[38;5;124m2.png\u001b[39m\u001b[38;5;124m'\u001b[39m, confidence \u001b[38;5;241m=\u001b[39m \u001b[38;5;241m0.8\u001b[39m)\n\u001b[1;32m     15\u001b[0m pyautogui\u001b[38;5;241m.\u001b[39mclick(A)\n\u001b[1;32m     16\u001b[0m time\u001b[38;5;241m.\u001b[39msleep(\u001b[38;5;241m2\u001b[39m)\n",
      "File \u001b[0;32m/opt/anaconda3/lib/python3.12/site-packages/pyautogui/__init__.py:174\u001b[0m, in \u001b[0;36mraisePyAutoGUIImageNotFoundException.<locals>.wrapper\u001b[0;34m(*args, **kwargs)\u001b[0m\n\u001b[1;32m    172\u001b[0m     \u001b[38;5;28;01mreturn\u001b[39;00m wrappedFunction(\u001b[38;5;241m*\u001b[39margs, \u001b[38;5;241m*\u001b[39m\u001b[38;5;241m*\u001b[39mkwargs)\n\u001b[1;32m    173\u001b[0m \u001b[38;5;28;01mexcept\u001b[39;00m pyscreeze\u001b[38;5;241m.\u001b[39mImageNotFoundException:\n\u001b[0;32m--> 174\u001b[0m     \u001b[38;5;28;01mraise\u001b[39;00m ImageNotFoundException\n",
      "\u001b[0;31mImageNotFoundException\u001b[0m: "
     ]
    }
   ],
   "source": [
    "# !pip install pyperclip # 마우스 키보드 조작\n",
    "# !pip install pyautogui # 매크로\n",
    "# !pip install opencv-python # 이미지\n",
    "\n",
    "import pyperclip\n",
    "import pyautogui\n",
    "import time\n",
    "\n",
    "A = pyautogui.locateCenterOnScreen('1.png', confidence = 0.8)\n",
    "print(A)\n",
    "pyautogui.click(A)\n",
    "time.sleep(2)\n",
    "\n",
    "A = pyautogui.locateCenterOnScreen('2.png', confidence = 0.8)\n",
    "pyautogui.click(A)\n",
    "time.sleep(2)"
   ]
  },
  {
   "cell_type": "code",
   "execution_count": null,
   "id": "6cb69a5b-a16d-4fd3-85ef-8ef5484af4e9",
   "metadata": {},
   "outputs": [],
   "source": []
  }
 ],
 "metadata": {
  "kernelspec": {
   "display_name": "Python [conda env:base] *",
   "language": "python",
   "name": "conda-base-py"
  },
  "language_info": {
   "codemirror_mode": {
    "name": "ipython",
    "version": 3
   },
   "file_extension": ".py",
   "mimetype": "text/x-python",
   "name": "python",
   "nbconvert_exporter": "python",
   "pygments_lexer": "ipython3",
   "version": "3.12.7"
  }
 },
 "nbformat": 4,
 "nbformat_minor": 5
}
