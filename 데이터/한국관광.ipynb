{
 "cells": [
  {
   "cell_type": "code",
   "execution_count": 17,
   "id": "9b1543f3-b8ed-44bd-8f82-7d4b92055010",
   "metadata": {},
   "outputs": [
    {
     "data": {
      "text/html": [
       "<div>\n",
       "<style scoped>\n",
       "    .dataframe tbody tr th:only-of-type {\n",
       "        vertical-align: middle;\n",
       "    }\n",
       "\n",
       "    .dataframe tbody tr th {\n",
       "        vertical-align: top;\n",
       "    }\n",
       "\n",
       "    .dataframe thead th {\n",
       "        text-align: right;\n",
       "    }\n",
       "</style>\n",
       "<table border=\"1\" class=\"dataframe\">\n",
       "  <thead>\n",
       "    <tr style=\"text-align: right;\">\n",
       "      <th></th>\n",
       "      <th>국적</th>\n",
       "      <th>관광</th>\n",
       "      <th>상용</th>\n",
       "      <th>공용</th>\n",
       "      <th>유학/연수</th>\n",
       "      <th>기타</th>\n",
       "      <th>계</th>\n",
       "    </tr>\n",
       "  </thead>\n",
       "  <tbody>\n",
       "    <tr>\n",
       "      <th>0</th>\n",
       "      <td>아시아주</td>\n",
       "      <td>329131</td>\n",
       "      <td>18238</td>\n",
       "      <td>421</td>\n",
       "      <td>4339</td>\n",
       "      <td>80916</td>\n",
       "      <td>433045</td>\n",
       "    </tr>\n",
       "    <tr>\n",
       "      <th>1</th>\n",
       "      <td>일본</td>\n",
       "      <td>202825</td>\n",
       "      <td>1750</td>\n",
       "      <td>89</td>\n",
       "      <td>549</td>\n",
       "      <td>3971</td>\n",
       "      <td>209184</td>\n",
       "    </tr>\n",
       "    <tr>\n",
       "      <th>2</th>\n",
       "      <td>대만</td>\n",
       "      <td>35788</td>\n",
       "      <td>41</td>\n",
       "      <td>17</td>\n",
       "      <td>37</td>\n",
       "      <td>516</td>\n",
       "      <td>36399</td>\n",
       "    </tr>\n",
       "    <tr>\n",
       "      <th>3</th>\n",
       "      <td>홍콩</td>\n",
       "      <td>13874</td>\n",
       "      <td>55</td>\n",
       "      <td>0</td>\n",
       "      <td>21</td>\n",
       "      <td>595</td>\n",
       "      <td>14545</td>\n",
       "    </tr>\n",
       "    <tr>\n",
       "      <th>4</th>\n",
       "      <td>마카오</td>\n",
       "      <td>554</td>\n",
       "      <td>0</td>\n",
       "      <td>0</td>\n",
       "      <td>0</td>\n",
       "      <td>0</td>\n",
       "      <td>554</td>\n",
       "    </tr>\n",
       "    <tr>\n",
       "      <th>...</th>\n",
       "      <td>...</td>\n",
       "      <td>...</td>\n",
       "      <td>...</td>\n",
       "      <td>...</td>\n",
       "      <td>...</td>\n",
       "      <td>...</td>\n",
       "      <td>...</td>\n",
       "    </tr>\n",
       "    <tr>\n",
       "      <th>62</th>\n",
       "      <td>아프리카 기타</td>\n",
       "      <td>349</td>\n",
       "      <td>594</td>\n",
       "      <td>25</td>\n",
       "      <td>86</td>\n",
       "      <td>296</td>\n",
       "      <td>1350</td>\n",
       "    </tr>\n",
       "    <tr>\n",
       "      <th>63</th>\n",
       "      <td>기타대륙</td>\n",
       "      <td>10</td>\n",
       "      <td>3</td>\n",
       "      <td>0</td>\n",
       "      <td>0</td>\n",
       "      <td>0</td>\n",
       "      <td>13</td>\n",
       "    </tr>\n",
       "    <tr>\n",
       "      <th>64</th>\n",
       "      <td>국적미상</td>\n",
       "      <td>10</td>\n",
       "      <td>3</td>\n",
       "      <td>0</td>\n",
       "      <td>0</td>\n",
       "      <td>0</td>\n",
       "      <td>13</td>\n",
       "    </tr>\n",
       "    <tr>\n",
       "      <th>65</th>\n",
       "      <td>교포소계</td>\n",
       "      <td>0</td>\n",
       "      <td>0</td>\n",
       "      <td>0</td>\n",
       "      <td>0</td>\n",
       "      <td>22537</td>\n",
       "      <td>22537</td>\n",
       "    </tr>\n",
       "    <tr>\n",
       "      <th>66</th>\n",
       "      <td>교포</td>\n",
       "      <td>0</td>\n",
       "      <td>0</td>\n",
       "      <td>0</td>\n",
       "      <td>0</td>\n",
       "      <td>22537</td>\n",
       "      <td>22537</td>\n",
       "    </tr>\n",
       "  </tbody>\n",
       "</table>\n",
       "<p>67 rows × 7 columns</p>\n",
       "</div>"
      ],
      "text/plain": [
       "         국적      관광     상용   공용  유학/연수     기타       계\n",
       "0      아시아주  329131  18238  421   4339  80916  433045\n",
       "1        일본  202825   1750   89    549   3971  209184\n",
       "2        대만   35788     41   17     37    516   36399\n",
       "3        홍콩   13874     55    0     21    595   14545\n",
       "4       마카오     554      0    0      0      0     554\n",
       "..      ...     ...    ...  ...    ...    ...     ...\n",
       "62  아프리카 기타     349    594   25     86    296    1350\n",
       "63     기타대륙      10      3    0      0      0      13\n",
       "64     국적미상      10      3    0      0      0      13\n",
       "65     교포소계       0      0    0      0  22537   22537\n",
       "66       교포       0      0    0      0  22537   22537\n",
       "\n",
       "[67 rows x 7 columns]"
      ]
     },
     "execution_count": 17,
     "metadata": {},
     "output_type": "execute_result"
    }
   ],
   "source": [
    "# 중국인 관광객 변화 추이\n",
    "import pandas as pd\n",
    "\n",
    "df = pd.read_excel('한국관광데이터/kto_201001.xlsx', header = 1, usecols ='A:G', skipfooter=4)\n",
    "df"
   ]
  },
  {
   "cell_type": "code",
   "execution_count": 67,
   "id": "ea77c660-f781-42a2-932c-a988f03957fd",
   "metadata": {},
   "outputs": [
    {
     "name": "stderr",
     "output_type": "stream",
     "text": [
      "100%|███████████████████████████████████████████| 11/11 [00:01<00:00,  8.81it/s]\n"
     ]
    }
   ],
   "source": [
    "from tqdm import tqdm  # for문의 진행상황을 알려주는 도구\n",
    "total = []\n",
    "for y in tqdm(range(2010, 2021)):\n",
    "    for m in range(1, 13):\n",
    "        year = y\n",
    "        month = str(m).zfill(2)\n",
    "        if year == 2020 and m == 6:\n",
    "            break\n",
    "        df = pd.read_excel(f'한국관광데이터/kto_{year}{month}.xlsx', header = 1, usecols ='A:G', skipfooter = 4)\n",
    "        df['MONTH'] = month\n",
    "        df['YEAR'] = year\n",
    "        df['DATE'] = f'{y}-{m}'\n",
    "        total.append(df)"
   ]
  },
  {
   "cell_type": "code",
   "execution_count": 33,
   "id": "bb968c3c-6c3d-4830-ac0d-93c903f27578",
   "metadata": {},
   "outputs": [
    {
     "data": {
      "text/plain": [
       "125"
      ]
     },
     "execution_count": 33,
     "metadata": {},
     "output_type": "execute_result"
    }
   ],
   "source": [
    "len(total)"
   ]
  },
  {
   "cell_type": "code",
   "execution_count": 73,
   "id": "8a275a97-45b1-44ec-9cb1-97198385b813",
   "metadata": {},
   "outputs": [
    {
     "data": {
      "text/html": [
       "<div>\n",
       "<style scoped>\n",
       "    .dataframe tbody tr th:only-of-type {\n",
       "        vertical-align: middle;\n",
       "    }\n",
       "\n",
       "    .dataframe tbody tr th {\n",
       "        vertical-align: top;\n",
       "    }\n",
       "\n",
       "    .dataframe thead th {\n",
       "        text-align: right;\n",
       "    }\n",
       "</style>\n",
       "<table border=\"1\" class=\"dataframe\">\n",
       "  <thead>\n",
       "    <tr style=\"text-align: right;\">\n",
       "      <th></th>\n",
       "      <th>국적</th>\n",
       "      <th>관광</th>\n",
       "      <th>상용</th>\n",
       "      <th>공용</th>\n",
       "      <th>유학/연수</th>\n",
       "      <th>기타</th>\n",
       "      <th>계</th>\n",
       "      <th>MONTH</th>\n",
       "      <th>YEAR</th>\n",
       "    </tr>\n",
       "    <tr>\n",
       "      <th>DATE</th>\n",
       "      <th></th>\n",
       "      <th></th>\n",
       "      <th></th>\n",
       "      <th></th>\n",
       "      <th></th>\n",
       "      <th></th>\n",
       "      <th></th>\n",
       "      <th></th>\n",
       "      <th></th>\n",
       "    </tr>\n",
       "  </thead>\n",
       "  <tbody>\n",
       "    <tr>\n",
       "      <th>2010-01-01</th>\n",
       "      <td>중국</td>\n",
       "      <td>40425</td>\n",
       "      <td>11930</td>\n",
       "      <td>55</td>\n",
       "      <td>2751</td>\n",
       "      <td>36091</td>\n",
       "      <td>91252</td>\n",
       "      <td>01</td>\n",
       "      <td>2010</td>\n",
       "    </tr>\n",
       "    <tr>\n",
       "      <th>2010-02-01</th>\n",
       "      <td>중국</td>\n",
       "      <td>60590</td>\n",
       "      <td>7907</td>\n",
       "      <td>68</td>\n",
       "      <td>29546</td>\n",
       "      <td>42460</td>\n",
       "      <td>140571</td>\n",
       "      <td>02</td>\n",
       "      <td>2010</td>\n",
       "    </tr>\n",
       "    <tr>\n",
       "      <th>2010-03-01</th>\n",
       "      <td>중국</td>\n",
       "      <td>50330</td>\n",
       "      <td>13549</td>\n",
       "      <td>174</td>\n",
       "      <td>14924</td>\n",
       "      <td>62480</td>\n",
       "      <td>141457</td>\n",
       "      <td>03</td>\n",
       "      <td>2010</td>\n",
       "    </tr>\n",
       "    <tr>\n",
       "      <th>2010-04-01</th>\n",
       "      <td>중국</td>\n",
       "      <td>84252</td>\n",
       "      <td>13306</td>\n",
       "      <td>212</td>\n",
       "      <td>2199</td>\n",
       "      <td>47711</td>\n",
       "      <td>147680</td>\n",
       "      <td>04</td>\n",
       "      <td>2010</td>\n",
       "    </tr>\n",
       "    <tr>\n",
       "      <th>2010-05-01</th>\n",
       "      <td>중국</td>\n",
       "      <td>89056</td>\n",
       "      <td>12325</td>\n",
       "      <td>360</td>\n",
       "      <td>2931</td>\n",
       "      <td>49394</td>\n",
       "      <td>154066</td>\n",
       "      <td>05</td>\n",
       "      <td>2010</td>\n",
       "    </tr>\n",
       "    <tr>\n",
       "      <th>...</th>\n",
       "      <td>...</td>\n",
       "      <td>...</td>\n",
       "      <td>...</td>\n",
       "      <td>...</td>\n",
       "      <td>...</td>\n",
       "      <td>...</td>\n",
       "      <td>...</td>\n",
       "      <td>...</td>\n",
       "      <td>...</td>\n",
       "    </tr>\n",
       "    <tr>\n",
       "      <th>2020-01-01</th>\n",
       "      <td>중국</td>\n",
       "      <td>393336</td>\n",
       "      <td>2813</td>\n",
       "      <td>99</td>\n",
       "      <td>10433</td>\n",
       "      <td>75000</td>\n",
       "      <td>481681</td>\n",
       "      <td>01</td>\n",
       "      <td>2020</td>\n",
       "    </tr>\n",
       "    <tr>\n",
       "      <th>2020-02-01</th>\n",
       "      <td>중국</td>\n",
       "      <td>49520</td>\n",
       "      <td>715</td>\n",
       "      <td>11</td>\n",
       "      <td>20753</td>\n",
       "      <td>33087</td>\n",
       "      <td>104086</td>\n",
       "      <td>02</td>\n",
       "      <td>2020</td>\n",
       "    </tr>\n",
       "    <tr>\n",
       "      <th>2020-03-01</th>\n",
       "      <td>중국</td>\n",
       "      <td>5040</td>\n",
       "      <td>115</td>\n",
       "      <td>2</td>\n",
       "      <td>7388</td>\n",
       "      <td>4050</td>\n",
       "      <td>16595</td>\n",
       "      <td>03</td>\n",
       "      <td>2020</td>\n",
       "    </tr>\n",
       "    <tr>\n",
       "      <th>2020-04-01</th>\n",
       "      <td>중국</td>\n",
       "      <td>522</td>\n",
       "      <td>71</td>\n",
       "      <td>0</td>\n",
       "      <td>1112</td>\n",
       "      <td>2230</td>\n",
       "      <td>3935</td>\n",
       "      <td>04</td>\n",
       "      <td>2020</td>\n",
       "    </tr>\n",
       "    <tr>\n",
       "      <th>2020-05-01</th>\n",
       "      <td>중국</td>\n",
       "      <td>179</td>\n",
       "      <td>70</td>\n",
       "      <td>2</td>\n",
       "      <td>1189</td>\n",
       "      <td>3684</td>\n",
       "      <td>5124</td>\n",
       "      <td>05</td>\n",
       "      <td>2020</td>\n",
       "    </tr>\n",
       "  </tbody>\n",
       "</table>\n",
       "<p>125 rows × 9 columns</p>\n",
       "</div>"
      ],
      "text/plain": [
       "            국적      관광     상용   공용  유학/연수     기타       계 MONTH  YEAR\n",
       "DATE                                                                \n",
       "2010-01-01  중국   40425  11930   55   2751  36091   91252    01  2010\n",
       "2010-02-01  중국   60590   7907   68  29546  42460  140571    02  2010\n",
       "2010-03-01  중국   50330  13549  174  14924  62480  141457    03  2010\n",
       "2010-04-01  중국   84252  13306  212   2199  47711  147680    04  2010\n",
       "2010-05-01  중국   89056  12325  360   2931  49394  154066    05  2010\n",
       "...         ..     ...    ...  ...    ...    ...     ...   ...   ...\n",
       "2020-01-01  중국  393336   2813   99  10433  75000  481681    01  2020\n",
       "2020-02-01  중국   49520    715   11  20753  33087  104086    02  2020\n",
       "2020-03-01  중국    5040    115    2   7388   4050   16595    03  2020\n",
       "2020-04-01  중국     522     71    0   1112   2230    3935    04  2020\n",
       "2020-05-01  중국     179     70    2   1189   3684    5124    05  2020\n",
       "\n",
       "[125 rows x 9 columns]"
      ]
     },
     "execution_count": 73,
     "metadata": {},
     "output_type": "execute_result"
    }
   ],
   "source": [
    "import koreanize_matplotlib\n",
    "\n",
    "df = pd.concat(total, ignore_index=True)\n",
    "df['DATE'] = pd.to_datetime(df['DATE'])\n",
    "df = df.set_index('DATE')\n",
    "\n",
    "china = df[df['국적'] == '중국']\n",
    "china"
   ]
  },
  {
   "cell_type": "code",
   "execution_count": 75,
   "id": "9c9f359e-251f-426d-b608-c9dfa760fc6d",
   "metadata": {},
   "outputs": [
    {
     "data": {
      "text/plain": [
       "<Axes: xlabel='DATE'>"
      ]
     },
     "execution_count": 75,
     "metadata": {},
     "output_type": "execute_result"
    },
    {
     "data": {
      "image/png": "[encoded data removed]",
      "text/plain": [
       "<Figure size 640x480 with 1 Axes>"
      ]
     },
     "metadata": {},
     "output_type": "display_data"
    }
   ],
   "source": [
    "china['관광'].plot()"
   ]
  },
  {
   "cell_type": "code",
   "execution_count": 85,
   "id": "993d3cc7-6417-4dfb-8ded-34ca63a5b3dc",
   "metadata": {},
   "outputs": [
    {
     "data": {
      "text/plain": [
       "<Axes: xlabel='MONTH', ylabel='YEAR'>"
      ]
     },
     "execution_count": 85,
     "metadata": {},
     "output_type": "execute_result"
    },
    {
     "data": {
      "image/png": "[encoded data removed]",
      "text/plain": [
       "<Figure size 640x480 with 2 Axes>"
      ]
     },
     "metadata": {},
     "output_type": "display_data"
    }
   ],
   "source": [
    "import seaborn as sns\n",
    "\n",
    "table = df.pivot_table(index = 'YEAR', columns='MONTH', values='관광')\n",
    "table\n",
    "\n",
    "sns.heatmap(table, cmap = 'Blues')\n"
   ]
  },
  {
   "cell_type": "code",
   "execution_count": null,
   "id": "9599d34b-5c68-412e-95ad-a2a17a8822ce",
   "metadata": {},
   "outputs": [
    {
     "name": "stdout",
     "output_type": "stream",
     "text": [
      "전화번호 관리 프로그램\n",
      "    \n",
      "    1. 전화번호 입력\n",
      "    2. 전화번호 조회\n",
      "    3. 전화번호 삭제\n",
      "    4. 종료\n"
     ]
    },
    {
     "name": "stdin",
     "output_type": "stream",
     "text": [
      "입력:  2\n"
     ]
    },
    {
     "name": "stdout",
     "output_type": "stream",
     "text": [
      "1, 장원영 12341234\n",
      "0104514675, 이민혁\n",
      "123123213, 이민혁2\n",
      "2313, 이민혁\n",
      "\n",
      "전화번호 관리 프로그램\n",
      "    \n",
      "    1. 전화번호 입력\n",
      "    2. 전화번호 조회\n",
      "    3. 전화번호 삭제\n",
      "    4. 종료\n"
     ]
    },
    {
     "name": "stdin",
     "output_type": "stream",
     "text": [
      "입력:  3\n",
      "입력:  1\n"
     ]
    },
    {
     "name": "stdout",
     "output_type": "stream",
     "text": [
      "\n",
      "전화번호 관리 프로그램\n",
      "    \n",
      "    1. 전화번호 입력\n",
      "    2. 전화번호 조회\n",
      "    3. 전화번호 삭제\n",
      "    4. 종료\n"
     ]
    },
    {
     "name": "stdin",
     "output_type": "stream",
     "text": [
      "입력:  3\n",
      "입력:  1\n"
     ]
    },
    {
     "name": "stdout",
     "output_type": "stream",
     "text": [
      "\n",
      "전화번호 관리 프로그램\n",
      "    \n",
      "    1. 전화번호 입력\n",
      "    2. 전화번호 조회\n",
      "    3. 전화번호 삭제\n",
      "    4. 종료\n"
     ]
    },
    {
     "name": "stdin",
     "output_type": "stream",
     "text": [
      "입력:  2\n"
     ]
    },
    {
     "name": "stdout",
     "output_type": "stream",
     "text": [
      "0104514675, 이민혁\n",
      "123123213, 이민혁2\n",
      "2313, 이민혁\n",
      "\n",
      "전화번호 관리 프로그램\n",
      "    \n",
      "    1. 전화번호 입력\n",
      "    2. 전화번호 조회\n",
      "    3. 전화번호 삭제\n",
      "    4. 종료\n"
     ]
    },
    {
     "name": "stdin",
     "output_type": "stream",
     "text": [
      "입력:  3\n",
      "입력:  0104514675\n"
     ]
    },
    {
     "name": "stdout",
     "output_type": "stream",
     "text": [
      "\n",
      "전화번호 관리 프로그램\n",
      "    \n",
      "    1. 전화번호 입력\n",
      "    2. 전화번호 조회\n",
      "    3. 전화번호 삭제\n",
      "    4. 종료\n"
     ]
    },
    {
     "name": "stdin",
     "output_type": "stream",
     "text": [
      "입력:  1\n",
      "이름:  하이\n",
      "번호:  123\n"
     ]
    },
    {
     "name": "stdout",
     "output_type": "stream",
     "text": [
      "전화번호 저장 완료!\n",
      "\n",
      "전화번호 관리 프로그램\n",
      "    \n",
      "    1. 전화번호 입력\n",
      "    2. 전화번호 조회\n",
      "    3. 전화번호 삭제\n",
      "    4. 종료\n"
     ]
    },
    {
     "name": "stdin",
     "output_type": "stream",
     "text": [
      "입력:  2\n"
     ]
    },
    {
     "name": "stdout",
     "output_type": "stream",
     "text": [
      "123123213, 이민혁2\n",
      "2313, 이민혁\n",
      "123, 하이\n",
      "\n",
      "전화번호 관리 프로그램\n",
      "    \n",
      "    1. 전화번호 입력\n",
      "    2. 전화번호 조회\n",
      "    3. 전화번호 삭제\n",
      "    4. 종료\n"
     ]
    },
    {
     "name": "stdin",
     "output_type": "stream",
     "text": [
      "입력:  2\n"
     ]
    },
    {
     "name": "stdout",
     "output_type": "stream",
     "text": [
      "123123213, 이민혁2\n",
      "2313, 이민혁\n",
      "123, 하이\n",
      "\n",
      "전화번호 관리 프로그램\n",
      "    \n",
      "    1. 전화번호 입력\n",
      "    2. 전화번호 조회\n",
      "    3. 전화번호 삭제\n",
      "    4. 종료\n"
     ]
    }
   ],
   "source": [
    "import pickle\n",
    "\n",
    "#### 전화번호 관리 프로그램\n",
    "# 퀴즈: 전화번호를 입력하면 삭제해주는 기능 만들기.\n",
    "f = open(\"phone.dat\", 'rb')\n",
    "phone_box = pickle.load(f)\n",
    "f.close()\n",
    "\n",
    "def del_numbers():\n",
    "    numbers = input(\"입력: \")\n",
    "    for idx, i in enumerate(phone_box):\n",
    "        if numbers == i[1]:\n",
    "            del phone_box[idx]\n",
    "            f = open(\"phone.dat\", \"wb\")\n",
    "            pickle.dump(phone_box, f)\n",
    "            f.close()\n",
    "\n",
    "def show_info():\n",
    "    for name, phone in phone_box:\n",
    "        print(f\"{phone}, {name}\")\n",
    "\n",
    "def add_numbers():\n",
    "    name = input(\"이름: \")\n",
    "    number = input(\"번호: \")\n",
    "    A = [name, number]\n",
    "    if A not in phone_box:\n",
    "        phone_box.append(A)\n",
    "        print(\"전화번호 저장 완료!\")\n",
    "        f = open(\"phone.dat\", \"wb\")\n",
    "        pickle.dump(phone_box, f)\n",
    "        f.close()\n",
    "\n",
    "while True:\n",
    "    print(\"\"\"전화번호 관리 프로그램\n",
    "    \n",
    "    1. 전화번호 입력\n",
    "    2. 전화번호 조회\n",
    "    3. 전화번호 삭제\n",
    "    4. 종료\"\"\")\n",
    "\n",
    "    n = int(input(\"입력: \"))\n",
    "    if n == 1:\n",
    "        add_numbers()\n",
    "    elif n == 2:\n",
    "        show_info()\n",
    "    elif n == 3:\n",
    "        del_numbers()\n",
    "    elif n == 4:\n",
    "        break\n",
    "\n",
    "    print()"
   ]
  },
  {
   "cell_type": "code",
   "execution_count": 7,
   "id": "721425e6-adc9-458b-a1e2-1ebcf60bc199",
   "metadata": {},
   "outputs": [
    {
     "data": {
      "text/plain": [
       "[]"
      ]
     },
     "execution_count": 7,
     "metadata": {},
     "output_type": "execute_result"
    }
   ],
   "source": [
    "phone_box"
   ]
  },
  {
   "cell_type": "code",
   "execution_count": null,
   "id": "ec77ab5c-6ef3-497c-9929-adb77833d518",
   "metadata": {},
   "outputs": [],
   "source": []
  }
 ],
 "metadata": {
  "kernelspec": {
   "display_name": "Python [conda env:base] *",
   "language": "python",
   "name": "conda-base-py"
  },
  "language_info": {
   "codemirror_mode": {
    "name": "ipython",
    "version": 3
   },
   "file_extension": ".py",
   "mimetype": "text/x-python",
   "name": "python",
   "nbconvert_exporter": "python",
   "pygments_lexer": "ipython3",
   "version": "3.12.7"
  }
 },
 "nbformat": 4,
 "nbformat_minor": 5
}
